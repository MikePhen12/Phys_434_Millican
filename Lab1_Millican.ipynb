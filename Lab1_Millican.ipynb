{
 "cells": [
  {
   "cell_type": "markdown",
   "metadata": {},
   "source": [
    "# Lab 1 - Maverick Millican"
   ]
  },
  {
   "cell_type": "markdown",
   "metadata": {},
   "source": [
    "After a long and trying two hours of getting to understand the nuances of git and GitHub, this lab and using Jupyter are what I am really here to do. Let's begin. "
   ]
  },
  {
   "cell_type": "code",
   "execution_count": 11,
   "metadata": {},
   "outputs": [],
   "source": [
    "import numpy as np\n",
    "from scipy import stats\n",
    "import matplotlib.pyplot as plt"
   ]
  },
  {
   "cell_type": "markdown",
   "metadata": {},
   "source": [
    "## A Little Statistics"
   ]
  },
  {
   "cell_type": "markdown",
   "metadata": {},
   "source": [
    "### 1. A) \n",
    "I started by looking up the normal distribution, its properties, as well as the associated Z-table. "
   ]
  },
  {
   "cell_type": "markdown",
   "metadata": {},
   "source": [
    "### 1. B)"
   ]
  },
  {
   "cell_type": "markdown",
   "metadata": {},
   "source": [
    "Now I will show a few plots of Normal distributions and their associated Cumulative Distribution functions to certain values in order to show their adherence to the Z-table. The most common known values are for $ z = 1, 2, 3 $ that correspond to CDF values (after multiplying by 2 to account for $\\pm$ z) of $  0.6827, 0.9545, 0.9974 $ and I will check that here. \\\n",
    "$  Z = \\frac {X-\\mu }{\\sigma } $ \\\n",
    "$X = $ x value to be integrated to \\\n",
    "$\\mu = $ mean value of distribution \\\n",
    "$\\sigma = $ standard deviation"
   ]
  },
  {
   "cell_type": "code",
   "execution_count": 12,
   "metadata": {},
   "outputs": [
    {
     "name": "stdout",
     "output_type": "stream",
     "text": [
      " Z=3 P=0.6827,  Z=2 P=0.9545, Z=3 P=0.9973\n"
     ]
    },
    {
     "data": {
      "image/png": "[encoded data removed]",
      "text/plain": [
       "<Figure size 432x288 with 1 Axes>"
      ]
     },
     "metadata": {
      "needs_background": "light"
     },
     "output_type": "display_data"
    }
   ],
   "source": [
    "mu = 5; sigma = .01\n",
    "d = stats.norm.rvs(loc = mu, scale = sigma, size = 100000)\n",
    "fig, ax = plt.subplots(1, 1)\n",
    "ax.set_title(f'\\u03BC={mu}, \\u03C3={sigma}')\n",
    "ax.hist(d,50, density=True, color = 'r', alpha = .3)\n",
    "ax.tick_params(labelsize = 10)\n",
    "ax.set_xlim([mu-5*sigma,mu+5*sigma])\n",
    "x = np.linspace(mu-5*sigma,mu+5*sigma,1000)\n",
    "ax.plot(x,stats.norm.pdf(x,loc = 5., scale = 0.01),linewidth = 3,alpha = 0)\n",
    "int_base3 = np.linspace(mu-3*sigma,mu+3*sigma,1000)\n",
    "int_base2 = np.linspace(mu-2*sigma,mu+2*sigma,1000)\n",
    "int_base1 = np.linspace(mu-1*sigma,mu+1*sigma,1000)\n",
    "ax.fill_between(int_base1, stats.norm.pdf(int_base1,loc = mu, scale = sigma), color = 'b', linewidth = 0, alpha = .2)\n",
    "ax.fill_between(int_base2, stats.norm.pdf(int_base2,loc = mu, scale = sigma), color = 'b', linewidth = 0, alpha = .2)\n",
    "ax.fill_between(int_base3, stats.norm.pdf(int_base3,loc = mu, scale = sigma), color = 'b', linewidth = 0, alpha = .2)\n",
    "plt.yscale('log')\n",
    "print(f' Z=3 P={1 - ((1 - stats.norm.cdf(mu+1*sigma, loc = mu, scale = sigma)) * 2):.4f},  Z=2 P={1 - ((1 - stats.norm.cdf(mu+2*sigma, loc = mu, scale = sigma)) * 2):.4f}, Z=3 P={1 - ((1 - stats.norm.cdf(mu+3*sigma, loc = mu, scale = sigma)) * 2):.4f}')"
   ]
  },
  {
   "cell_type": "code",
   "execution_count": 13,
   "metadata": {},
   "outputs": [
    {
     "name": "stdout",
     "output_type": "stream",
     "text": [
      " Z=3 P=0.6827,  Z=2 P=0.9545, Z=3 P=0.9973\n"
     ]
    },
    {
     "data": {
      "image/png": "[encoded data removed]",
      "text/plain": [
       "<Figure size 432x288 with 1 Axes>"
      ]
     },
     "metadata": {
      "needs_background": "light"
     },
     "output_type": "display_data"
    }
   ],
   "source": [
    "mu = 100; sigma = 18\n",
    "d = stats.norm.rvs(loc = mu, scale = sigma, size = 100000)\n",
    "fig, ax = plt.subplots(1, 1)\n",
    "ax.set_title(f'\\u03BC={mu}, \\u03C3={sigma}')\n",
    "ax.hist(d,50, density=True, color = 'r', alpha = .3)\n",
    "ax.tick_params(labelsize = 10)\n",
    "ax.set_xlim([mu-5*sigma,mu+5*sigma])\n",
    "x = np.linspace(mu-5*sigma,mu+5*sigma,1000)\n",
    "ax.plot(x,stats.norm.pdf(x,loc = mu, scale = sigma),linewidth = 3,alpha = 0)\n",
    "int_base3 = np.linspace(mu-3*sigma,mu+3*sigma,1000)\n",
    "int_base2 = np.linspace(mu-2*sigma,mu+2*sigma,1000)\n",
    "int_base1 = np.linspace(mu-1*sigma,mu+1*sigma,1000)\n",
    "ax.fill_between(int_base1, stats.norm.pdf(int_base1,loc = mu, scale = sigma), color = 'b', linewidth = 0, alpha = .2)\n",
    "ax.fill_between(int_base2, stats.norm.pdf(int_base2,loc = mu, scale = sigma), color = 'b', linewidth = 0, alpha = .2)\n",
    "ax.fill_between(int_base3, stats.norm.pdf(int_base3,loc = mu, scale = sigma), color = 'b', linewidth = 0, alpha = .2)\n",
    "plt.yscale('log')\n",
    "print(f' Z=3 P={1 - ((1 - stats.norm.cdf(mu+1*sigma, loc = mu, scale = sigma)) * 2):.4f},  Z=2 P={1 - ((1 - stats.norm.cdf(mu+2*sigma, loc = mu, scale = sigma)) * 2):.4f}, Z=3 P={1 - ((1 - stats.norm.cdf(mu+3*sigma, loc = mu, scale = sigma)) * 2):.4f}')"
   ]
  },
  {
   "cell_type": "code",
   "execution_count": 14,
   "metadata": {},
   "outputs": [
    {
     "name": "stdout",
     "output_type": "stream",
     "text": [
      " Z=3 P=0.6827,  Z=2 P=0.9545, Z=3 P=0.9973\n"
     ]
    },
    {
     "data": {
      "image/png": "[encoded data removed]",
      "text/plain": [
       "<Figure size 432x288 with 1 Axes>"
      ]
     },
     "metadata": {
      "needs_background": "light"
     },
     "output_type": "display_data"
    }
   ],
   "source": [
    "mu = 0; sigma = .5\n",
    "d = stats.norm.rvs(loc = mu, scale = sigma, size = 100000)\n",
    "fig, ax = plt.subplots(1, 1)\n",
    "ax.set_title(f'\\u03BC={mu}, \\u03C3={sigma}')\n",
    "ax.hist(d,50, density=True, color = 'r', alpha = .3)\n",
    "ax.tick_params(labelsize = 10)\n",
    "ax.set_xlim([mu-5*sigma,mu+5*sigma])\n",
    "x = np.linspace(mu-5*sigma,mu+5*sigma,1000)\n",
    "ax.plot(x,stats.norm.pdf(x,loc = mu, scale = sigma),linewidth = 3,alpha = 0)\n",
    "int_base3 = np.linspace(mu-3*sigma,mu+3*sigma,1000)\n",
    "int_base2 = np.linspace(mu-2*sigma,mu+2*sigma,1000)\n",
    "int_base1 = np.linspace(mu-1*sigma,mu+1*sigma,1000)\n",
    "ax.fill_between(int_base1, stats.norm.pdf(int_base1,loc = mu, scale = sigma), color = 'b', linewidth = 0, alpha = .2)\n",
    "ax.fill_between(int_base2, stats.norm.pdf(int_base2,loc = mu, scale = sigma), color = 'b', linewidth = 0, alpha = .2)\n",
    "ax.fill_between(int_base3, stats.norm.pdf(int_base3,loc = mu, scale = sigma), color = 'b', linewidth = 0, alpha = .2)\n",
    "plt.yscale('log')\n",
    "print(f' Z=3 P={1 - ((1 - stats.norm.cdf(mu+1*sigma, loc = mu, scale = sigma)) * 2):.4f},  Z=2 P={1 - ((1 - stats.norm.cdf(mu+2*sigma, loc = mu, scale = sigma)) * 2):.4f}, Z=3 P={1 - ((1 - stats.norm.cdf(mu+3*sigma, loc = mu, scale = sigma)) * 2):.4f}')"
   ]
  },
  {
   "cell_type": "code",
   "execution_count": null,
   "metadata": {},
   "outputs": [],
   "source": []
  },
  {
   "cell_type": "markdown",
   "metadata": {},
   "source": [
    "### 1. C)"
   ]
  },
  {
   "cell_type": "markdown",
   "metadata": {},
   "source": [
    "Now, I will do the inverse. I am going to use the Percent Point Function (PPF) to verify that for different sets of data, I can find the correct Z-value. I am going to use the percentages that align with the Z-values of 1, 2, and 3 that are listed at the top. "
   ]
  },
  {
   "cell_type": "code",
   "execution_count": 15,
   "metadata": {},
   "outputs": [
    {
     "name": "stdout",
     "output_type": "stream",
     "text": [
      " P=.9974 Z=3.0115,  P=.9545 Z=2.0000, P=.6827 Z=1.0000\n"
     ]
    },
    {
     "data": {
      "image/png": "[encoded data removed]",
      "text/plain": [
       "<Figure size 432x288 with 1 Axes>"
      ]
     },
     "metadata": {
      "needs_background": "light"
     },
     "output_type": "display_data"
    }
   ],
   "source": [
    "mu = 5; sigma = .01\n",
    "d = stats.norm.rvs(loc = mu, scale = sigma, size = 100000)\n",
    "fig, ax = plt.subplots(1, 1)\n",
    "ax.set_title(f'\\u03BC={mu}, \\u03C3={sigma}')\n",
    "ax.hist(d,50, density=True, color = 'r', alpha = .3)\n",
    "ax.tick_params(labelsize = 10)\n",
    "ax.set_xlim([mu-5*sigma,mu+5*sigma])\n",
    "x = np.linspace(mu-5*sigma,mu+5*sigma,1000)\n",
    "ax.plot(x,stats.norm.pdf(x,loc = mu, scale = sigma),linewidth = 3,alpha = 0)\n",
    "int_base3 = np.linspace(mu-3*sigma,mu+3*sigma,1000)\n",
    "int_base2 = np.linspace(mu-2*sigma,mu+2*sigma,1000)\n",
    "int_base1 = np.linspace(mu-1*sigma,mu+1*sigma,1000)\n",
    "ax.fill_between(int_base1, stats.norm.pdf(int_base1,loc = mu, scale = sigma), color = 'b', linewidth = 0, alpha = .2)\n",
    "ax.fill_between(int_base2, stats.norm.pdf(int_base2,loc = mu, scale = sigma), color = 'b', linewidth = 0, alpha = .2)\n",
    "ax.fill_between(int_base3, stats.norm.pdf(int_base3,loc = mu, scale = sigma), color = 'b', linewidth = 0, alpha = .2)\n",
    "plt.yscale('log')\n",
    "print(f' P=.9974 Z={(stats.norm.ppf(1-(1-.9974)/2, loc = mu, scale = sigma)-mu)/sigma:.4f},  P=.9545 Z={(stats.norm.ppf(1-(1-.9545)/2, loc = mu, scale = sigma)-mu)/sigma:.4f}, P=.6827 Z={(stats.norm.ppf(1-(1-.6827)/2, loc = mu, scale = sigma)-mu)/sigma:.4f}')"
   ]
  },
  {
   "cell_type": "code",
   "execution_count": 16,
   "metadata": {},
   "outputs": [
    {
     "name": "stdout",
     "output_type": "stream",
     "text": [
      " P=.9974 Z=3.0115,  P=.9545 Z=2.0000, P=.6827 Z=1.0000\n"
     ]
    },
    {
     "data": {
      "image/png": "[encoded data removed]",
      "text/plain": [
       "<Figure size 432x288 with 1 Axes>"
      ]
     },
     "metadata": {
      "needs_background": "light"
     },
     "output_type": "display_data"
    }
   ],
   "source": [
    "mu = 100; sigma = 18\n",
    "d = stats.norm.rvs(loc = mu, scale = sigma, size = 100000)\n",
    "fig, ax = plt.subplots(1, 1)\n",
    "ax.set_title(f'\\u03BC={mu}, \\u03C3={sigma}')\n",
    "ax.hist(d,50, density=True, color = 'r', alpha = .3)\n",
    "ax.tick_params(labelsize = 10)\n",
    "ax.set_xlim([mu-5*sigma,mu+5*sigma])\n",
    "x = np.linspace(mu-5*sigma,mu+5*sigma,1000)\n",
    "ax.plot(x,stats.norm.pdf(x,loc = mu, scale = sigma),linewidth = 3,alpha = 0)\n",
    "int_base3 = np.linspace(mu-3*sigma,mu+3*sigma,1000)\n",
    "int_base2 = np.linspace(mu-2*sigma,mu+2*sigma,1000)\n",
    "int_base1 = np.linspace(mu-1*sigma,mu+1*sigma,1000)\n",
    "ax.fill_between(int_base1, stats.norm.pdf(int_base1,loc = mu, scale = sigma), color = 'b', linewidth = 0, alpha = .2)\n",
    "ax.fill_between(int_base2, stats.norm.pdf(int_base2,loc = mu, scale = sigma), color = 'b', linewidth = 0, alpha = .2)\n",
    "ax.fill_between(int_base3, stats.norm.pdf(int_base3,loc = mu, scale = sigma), color = 'b', linewidth = 0, alpha = .2)\n",
    "plt.yscale('log')\n",
    "print(f' P=.9974 Z={(stats.norm.ppf(1-(1-.9974)/2, loc = mu, scale = sigma)-mu)/sigma:.4f},  P=.9545 Z={(stats.norm.ppf(1-(1-.9545)/2, loc = mu, scale = sigma)-mu)/sigma:.4f}, P=.6827 Z={(stats.norm.ppf(1-(1-.6827)/2, loc = mu, scale = sigma)-mu)/sigma:.4f}')"
   ]
  },
  {
   "cell_type": "code",
   "execution_count": 17,
   "metadata": {},
   "outputs": [
    {
     "name": "stdout",
     "output_type": "stream",
     "text": [
      " P=.9974 Z=3.0115,  P=.9545 Z=2.0000, P=.6827 Z=1.0000\n"
     ]
    },
    {
     "data": {
      "image/png": "[encoded data removed]",
      "text/plain": [
       "<Figure size 432x288 with 1 Axes>"
      ]
     },
     "metadata": {
      "needs_background": "light"
     },
     "output_type": "display_data"
    }
   ],
   "source": [
    "mu = 0; sigma = .5\n",
    "d = stats.norm.rvs(loc = mu, scale = sigma, size = 100000)\n",
    "fig, ax = plt.subplots(1, 1)\n",
    "ax.set_title(f'\\u03BC={mu}, \\u03C3={sigma}')\n",
    "ax.hist(d,50, density=True, color = 'r', alpha = .3)\n",
    "ax.tick_params(labelsize = 10)\n",
    "ax.set_xlim([mu-5*sigma,mu+5*sigma])\n",
    "x = np.linspace(mu-5*sigma,mu+5*sigma,1000)\n",
    "ax.plot(x,stats.norm.pdf(x,loc = mu, scale = sigma),linewidth = 3,alpha = 0)\n",
    "int_base3 = np.linspace(mu-3*sigma,mu+3*sigma,1000)\n",
    "int_base2 = np.linspace(mu-2*sigma,mu+2*sigma,1000)\n",
    "int_base1 = np.linspace(mu-1*sigma,mu+1*sigma,1000)\n",
    "ax.fill_between(int_base1, stats.norm.pdf(int_base1,loc = mu, scale = sigma), color = 'b', linewidth = 0, alpha = .2)\n",
    "ax.fill_between(int_base2, stats.norm.pdf(int_base2,loc = mu, scale = sigma), color = 'b', linewidth = 0, alpha = .2)\n",
    "ax.fill_between(int_base3, stats.norm.pdf(int_base3,loc = mu, scale = sigma), color = 'b', linewidth = 0, alpha = .2)\n",
    "plt.yscale('log')\n",
    "print(f' P=.9974 Z={(stats.norm.ppf(1-(1-.9974)/2, loc = mu, scale = sigma)-mu)/sigma:.4f},  P=.9545 Z={(stats.norm.ppf(1-(1-.9545)/2, loc = mu, scale = sigma)-mu)/sigma:.4f}, P=.6827 Z={(stats.norm.ppf(1-(1-.6827)/2, loc = mu, scale = sigma)-mu)/sigma:.4f}')"
   ]
  },
  {
   "cell_type": "markdown",
   "metadata": {},
   "source": [
    "## 1. D)"
   ]
  },
  {
   "cell_type": "markdown",
   "metadata": {},
   "source": [
    "The reason that no minus signs appeared in my calculations was becuase I was very careful to use the CDF function to come up with a percentage asociated with the Z-value (can't be negative) and the PPF function to find the x-value in which the percentage lies and converst that to a Z-value. "
   ]
  },
  {
   "cell_type": "markdown",
   "metadata": {},
   "source": [
    "## 2. A)"
   ]
  },
  {
   "cell_type": "markdown",
   "metadata": {},
   "source": [
    "I decided to do an exponential distribution which is the continous probability distribution of a Poission Point Process. This distribution shows the probability distribution of the time between events that occur independently of one another at a fixed or constant average rate. "
   ]
  },
  {
   "cell_type": "markdown",
   "metadata": {},
   "source": [
    "## 2. B)"
   ]
  },
  {
   "cell_type": "code",
   "execution_count": 79,
   "metadata": {},
   "outputs": [
    {
     "data": {
      "text/plain": [
       "Text(0, 0.5, 'Counts')"
      ]
     },
     "execution_count": 79,
     "metadata": {},
     "output_type": "execute_result"
    },
    {
     "data": {
      "image/png": "[encoded data removed]",
      "text/plain": [
       "<Figure size 720x216 with 2 Axes>"
      ]
     },
     "metadata": {
      "needs_background": "light"
     },
     "output_type": "display_data"
    }
   ],
   "source": [
    "mu = 0; sigma = .6\n",
    "d = stats.expon.rvs(loc = mu, scale = sigma, size = 100000)\n",
    "fig, (ax, ax2) = plt.subplots(1, 2, figsize=(10,3))\n",
    "ax.set_title(f'start={mu}, \\u03C3={sigma}')\n",
    "ax.hist(d, 200, density=True, color = 'r', alpha = .3)\n",
    "ax.tick_params(labelsize = 10)\n",
    "ax.set_xlim([mu,mu+8*sigma])\n",
    "x = np.linspace(mu,mu+8*sigma,100000)\n",
    "ax.plot(x,stats.expon.pdf(x,loc = 5., scale = 0.01),linewidth = 3,alpha = 0)\n",
    "int_base3 = np.linspace(mu-3*sigma,mu+3*sigma,1000)\n",
    "int_base2 = np.linspace(mu-2*sigma,mu+2*sigma,1000)\n",
    "int_base1 = np.linspace(mu-1*sigma,mu+1*sigma,1000)\n",
    "ax.fill_between(int_base1, stats.expon.pdf(int_base1,loc = mu, scale = sigma), color = 'b', linewidth = 0, alpha = .2)\n",
    "ax.fill_between(int_base2, stats.expon.pdf(int_base2,loc = mu, scale = sigma), color = 'b', linewidth = 0, alpha = .2)\n",
    "ax.fill_between(int_base3, stats.expon.pdf(int_base3,loc = mu, scale = sigma), color = 'b', linewidth = 1, alpha = .2)\n",
    "ax2.set_yscale('log')\n",
    "ax2.set_title(f'start={mu}, \\u03C3={sigma}')\n",
    "ax2.hist(d, 200, density=True, color = 'r', alpha = .3)\n",
    "ax2.tick_params(labelsize = 10)\n",
    "ax2.set_xlim([mu,mu+8*sigma])\n",
    "x = np.linspace(mu,mu+8*sigma,100000)\n",
    "ax2.plot(x,stats.expon.pdf(x,loc = 5., scale = 0.01),linewidth = 3,alpha = 0)\n",
    "int_base3 = np.linspace(mu-3*sigma,mu+3*sigma,1000)\n",
    "int_base2 = np.linspace(mu-2*sigma,mu+2*sigma,1000)\n",
    "int_base1 = np.linspace(mu-1*sigma,mu+1*sigma,1000)\n",
    "ax2.fill_between(int_base1, stats.expon.pdf(int_base1,loc = mu, scale = sigma), color = 'b', linewidth = 0, alpha = .2)\n",
    "ax2.fill_between(int_base2, stats.expon.pdf(int_base2,loc = mu, scale = sigma), color = 'b', linewidth = 0, alpha = .2)\n",
    "ax2.fill_between(int_base3, stats.expon.pdf(int_base3,loc = mu, scale = sigma), color = 'b', linewidth = 1, alpha = .2)\n",
    "ax2.set_ylabel(\"Counts\"); ax.set_ylabel(\"Counts\")"
   ]
  },
  {
   "cell_type": "code",
   "execution_count": 78,
   "metadata": {},
   "outputs": [
    {
     "data": {
      "text/plain": [
       "Text(0, 0.5, 'Counts')"
      ]
     },
     "execution_count": 78,
     "metadata": {},
     "output_type": "execute_result"
    },
    {
     "data": {
      "image/png": "[encoded data removed]",
      "text/plain": [
       "<Figure size 720x216 with 2 Axes>"
      ]
     },
     "metadata": {
      "needs_background": "light"
     },
     "output_type": "display_data"
    }
   ],
   "source": [
    "mu = 2; sigma = .2\n",
    "d = stats.expon.rvs(loc = mu, scale = sigma, size = 100000)\n",
    "fig, (ax, ax2) = plt.subplots(1, 2, figsize=(10,3))\n",
    "ax.set_title(f'start={mu}, \\u03C3={sigma}')\n",
    "ax.hist(d, 500, density=True, color = 'r', alpha = .3)\n",
    "ax.tick_params(labelsize = 10)\n",
    "ax.set_xlim([mu,mu+5*sigma])\n",
    "x = np.linspace(mu,mu+5*sigma,100000)\n",
    "ax.plot(x,stats.expon.pdf(x,loc = 5., scale = 0.01),linewidth = 3,alpha = 0)\n",
    "int_base3 = np.linspace(mu-3*sigma,mu+3*sigma,1000)\n",
    "int_base2 = np.linspace(mu-2*sigma,mu+2*sigma,1000)\n",
    "int_base1 = np.linspace(mu-1*sigma,mu+1*sigma,1000)\n",
    "ax.fill_between(int_base1, stats.expon.pdf(int_base1,loc = mu, scale = sigma), color = 'b', linewidth = 0, alpha = .2)\n",
    "ax.fill_between(int_base2, stats.expon.pdf(int_base2,loc = mu, scale = sigma), color = 'b', linewidth = 0, alpha = .2)\n",
    "ax.fill_between(int_base3, stats.expon.pdf(int_base3,loc = mu, scale = sigma), color = 'b', linewidth = 1, alpha = .2)\n",
    "ax2.set_yscale('log')\n",
    "ax2.set_title(f'start={mu}, \\u03C3={sigma}')\n",
    "ax2.hist(d, 500, density=True, color = 'r', alpha = .3)\n",
    "ax2.tick_params(labelsize = 10)\n",
    "ax2.set_xlim([mu,mu+5*sigma])\n",
    "x = np.linspace(mu,mu+5*sigma,100000)\n",
    "ax2.plot(x,stats.expon.pdf(x,loc = 5., scale = 0.01),linewidth = 3,alpha = 0)\n",
    "int_base3 = np.linspace(mu-3*sigma,mu+3*sigma,100)\n",
    "int_base2 = np.linspace(mu-2*sigma,mu+2*sigma,100)\n",
    "int_base1 = np.linspace(mu-1*sigma,mu+1*sigma,100)\n",
    "ax2.fill_between(int_base1, stats.expon.pdf(int_base1,loc = mu, scale = sigma), color = 'b', linewidth = 0, alpha = .2)\n",
    "ax2.fill_between(int_base2, stats.expon.pdf(int_base2,loc = mu, scale = sigma), color = 'b', linewidth = 0, alpha = .2)\n",
    "ax2.fill_between(int_base3, stats.expon.pdf(int_base3,loc = mu, scale = sigma), color = 'b', linewidth = 1, alpha = .2)\n",
    "ax2.set_ylabel(\"Counts\"); ax.set_ylabel(\"Counts\")"
   ]
  },
  {
   "cell_type": "markdown",
   "metadata": {},
   "source": [
    "Both distributions follow the same shape which is to be expected as they are created by a computer algorithm to make an exponential distribution. Notable features of the distribution are the long tail in the distribution (only on the right side) as well as the linear slope under a logarithmic y axis. "
   ]
  },
  {
   "cell_type": "markdown",
   "metadata": {},
   "source": [
    "## 3. A) and B)"
   ]
  },
  {
   "cell_type": "markdown",
   "metadata": {},
   "source": [
    "Now I am assuming that my background noise represents an exponential distribution. I have arbitrarily decided that anything measured that has a value of 1.8 or greater, would be considered signal like. The question to be answered is as follows: \"What is the probability that the base noise will appear as a signal to the detector?\""
   ]
  },
  {
   "cell_type": "code",
   "execution_count": 91,
   "metadata": {},
   "outputs": [
    {
     "name": "stdout",
     "output_type": "stream",
     "text": [
      "Percentage of hits that falsely appear as signal: 0.04978706836786395 || sigma value for this percentage: 1.797439364132394\n"
     ]
    },
    {
     "data": {
      "image/png": "[encoded data removed]",
      "text/plain": [
       "<Figure size 720x216 with 2 Axes>"
      ]
     },
     "metadata": {
      "needs_background": "light"
     },
     "output_type": "display_data"
    }
   ],
   "source": [
    "mu = 0; sigma = .6\n",
    "d = stats.expon.rvs(loc = mu, scale = sigma, size = 100000)\n",
    "fig, (ax, ax2) = plt.subplots(1, 2, figsize=(10,3))\n",
    "ax.set_title(f'start={mu}, \\u03C3={sigma}')\n",
    "ax.hist(d, 200, density=True, color = 'r', alpha = .3)\n",
    "ax.tick_params(labelsize = 10)\n",
    "ax.set_xlim([mu,mu+8*sigma])\n",
    "x = np.linspace(mu,mu+8*sigma,100000)\n",
    "ax.plot(x,stats.expon.pdf(x,loc = 5., scale = 0.01),linewidth = 3,alpha = 0)\n",
    "int_base1 = np.linspace(0,1.8,1000)\n",
    "ax.fill_between(int_base1, stats.expon.pdf(int_base1,loc = mu, scale = sigma), color = 'b', linewidth = 0, alpha = .2)\n",
    "ax2.set_yscale('log')\n",
    "ax2.set_title(f'start={mu}, \\u03C3={sigma}')\n",
    "ax2.hist(d, 200, density=True, color = 'r', alpha = .3)\n",
    "ax2.tick_params(labelsize = 10)\n",
    "ax2.set_xlim([mu,mu+8*sigma])\n",
    "x = np.linspace(mu,mu+8*sigma,100000)\n",
    "ax2.plot(x,stats.expon.pdf(x,loc = 5., scale = 0.01),linewidth = 3,alpha = 0)\n",
    "int_base1 = np.linspace(0,1.8,1000)\n",
    "ax2.fill_between(int_base1, stats.expon.pdf(int_base1,loc = mu, scale = sigma), color = 'b', linewidth = 0, alpha = .2)\n",
    "ax2.set_ylabel(\"Counts\"); ax.set_ylabel(\"Counts\")\n",
    "print(f'Percentage of hits that falsely appear as signal: {1 - stats.expon.cdf(1.8, loc=mu, scale=sigma)} || sigma value for this percentage: {stats.expon.ppf(.95, loc=mu, scale=sigma)}')"
   ]
  },
  {
   "cell_type": "code",
   "execution_count": null,
   "metadata": {},
   "outputs": [],
   "source": []
  }
 ],
 "metadata": {
  "kernelspec": {
   "display_name": "Python 3",
   "language": "python",
   "name": "python3"
  },
  "language_info": {
   "codemirror_mode": {
    "name": "ipython",
    "version": 3
   },
   "file_extension": ".py",
   "mimetype": "text/x-python",
   "name": "python",
   "nbconvert_exporter": "python",
   "pygments_lexer": "ipython3",
   "version": "3.7.4"
  }
 },
 "nbformat": 4,
 "nbformat_minor": 4
}
