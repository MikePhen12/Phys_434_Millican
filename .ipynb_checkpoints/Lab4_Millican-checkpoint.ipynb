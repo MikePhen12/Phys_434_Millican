{
 "cells": [
  {
   "cell_type": "markdown",
   "metadata": {},
   "source": [
    "# Lab #4 \n"
   ]
  },
  {
   "cell_type": "code",
   "execution_count": null,
   "metadata": {},
   "outputs": [],
   "source": [
    "%matplotlib inline\n",
    "import numpy as np\n",
    "import matplotlib\n",
    "import matplotlib.pyplot as plt\n",
    "import matplotlib.image as mpimg\n",
    "import scipy\n",
    "from scipy import stats\n",
    "import h5py\n",
    "import pandas as pd\n",
    "import imageio\n",
    "\n",
    "\n",
    "#this sets the size of the plot to something useful\n",
    "plt.rcParams[\"figure.figsize\"] = (10,6)\n"
   ]
  },
  {
   "cell_type": "code",
   "execution_count": null,
   "metadata": {},
   "outputs": [],
   "source": [
    "hf = h5py.File('gammaray_lab4.h5', 'r')\n",
    "hf.keys()\n",
    "data = np.array(hf.get('data'))\n",
    "hf.close()\n"
   ]
  },
  {
   "cell_type": "code",
   "execution_count": null,
   "metadata": {},
   "outputs": [],
   "source": [
    "table = pd.DataFrame(data = None, index=None)\n",
    "table['Time'] = data[0,:] - data[0,:].min()\n",
    "table['Solar Phase'] = data[1,:]\n",
    "table['Earth Longitude'] = data[2,:]\n",
    "table['Counts'] = data[3,:]\n",
    "table"
   ]
  },
  {
   "cell_type": "code",
   "execution_count": null,
   "metadata": {},
   "outputs": [],
   "source": [
    "start = 40000; n = 100000\n",
    "testbed = table[start:start + n]"
   ]
  },
  {
   "cell_type": "markdown",
   "metadata": {},
   "source": [
    "#### Here is my first attempt to look at a specific set of data in time. I can see that there are periodic effects of all of the data."
   ]
  },
  {
   "cell_type": "code",
   "execution_count": null,
   "metadata": {},
   "outputs": [],
   "source": [
    "fig, (ax, ax2, ax3) = plt.subplots(1, 3, figsize = (15, 4))\n",
    "ax.scatter(testbed['Time'], testbed['Solar Phase'])\n",
    "ax2.scatter(testbed['Time'], testbed['Earth Longitude'])\n",
    "ax3.scatter(testbed['Time'], testbed['Counts'])\n",
    "\n",
    "ax.set_ylabel('Solar Phase'); ax.set_xlabel('Time')\n",
    "ax2.set_ylabel('Earth Longitude'); ax2.set_xlabel('Time')\n",
    "ax3.set_ylabel('Counts'); ax3.set_xlabel('Time')"
   ]
  },
  {
   "cell_type": "markdown",
   "metadata": {},
   "source": [
    "#### I find the period of the Solar Phase and the Earth Longitude by finding points that the functions repeat. By finding multiple points that are of the same value, equally spaced, and after seeing that two functions in time are linear before they repeat, I can determine the period of the two. "
   ]
  },
  {
   "cell_type": "code",
   "execution_count": null,
   "metadata": {},
   "outputs": [],
   "source": [
    "solar = table.query(f'50 < `Solar Phase` < 50.01')\n",
    "earth = table.query(f'50 < `Earth Longitude` < 50.01')\n",
    "print(f'Solar Phase period: {6397.4 - 1335.8}, {11459.1 - 6397.5}, or {2587847.6 - 2582786.0} and Earth Longitude period: {5475.1 - 75.1}, {10875.1 - 5475.1}, or {2586675.1 - 2581275.1}')"
   ]
  },
  {
   "cell_type": "markdown",
   "metadata": {},
   "source": [
    "#### This part just verifies that the data looks relatively steady if you just take a data point every (1000) points. You cannot see the time dependence when doing it this way. "
   ]
  },
  {
   "cell_type": "code",
   "execution_count": null,
   "metadata": {},
   "outputs": [],
   "source": [
    "every1000 = table[table.index % 1000 == 0]  # Selects every 1000th row starting from 0\n",
    "fig, (ax, ax2, ax3) = plt.subplots(1, 3, figsize = (15, 4))\n",
    "ax.scatter(every1000['Time'], every1000['Solar Phase'])\n",
    "ax2.scatter(every1000['Time'], every1000['Earth Longitude'])\n",
    "ax3.scatter(every1000['Time'], every1000['Counts'])\n",
    "\n",
    "ax.set_ylabel('Solar Phase'); ax.set_xlabel('Time')\n",
    "ax2.set_ylabel('Earth Longitude'); ax2.set_xlabel('Time')\n",
    "ax3.set_ylabel('Counts'); ax3.set_xlabel('Time')"
   ]
  },
  {
   "cell_type": "code",
   "execution_count": null,
   "metadata": {},
   "outputs": [],
   "source": [
    "every1000 = table[table.index % 1000 == 0]  # Selects every 1000th row starting from 0\n",
    "periodic_data = every1000\n",
    "periodic_data['Time'] = ((every1000['Time']) % 5400)\n",
    "every1000 = table[table.index % 1000 == 0]  # Selects every 1000th row starting from 0\n",
    "periodic_shift = every1000\n",
    "periodic_shift['Time'] = ((every1000['Time']-4040) % 5400)"
   ]
  },
  {
   "cell_type": "markdown",
   "metadata": {},
   "source": [
    "#### Here is where I show my phase shift to make the distribution of counts during the period of Earth Longitude a continuous function."
   ]
  },
  {
   "cell_type": "code",
   "execution_count": null,
   "metadata": {},
   "outputs": [],
   "source": [
    "fig, (ax, ax2) = plt.subplots(1, 2, figsize = (20, 6))\n",
    "g=ax.hist2d(periodic_data['Time'], periodic_data['Counts'], bins = [54, 25])\n",
    "h=ax2.hist2d(periodic_shift['Time'], periodic_shift['Counts'], bins = [54, 25])\n",
    "ax.set_ylabel('Counts'); ax.set_xlabel('Unshifted Time within Earth Longitudinal Period')\n",
    "ax2.set_ylabel('Counts'); ax2.set_xlabel('Shifted Time within Earth Longitudinal Period')\n"
   ]
  },
  {
   "cell_type": "code",
   "execution_count": null,
   "metadata": {},
   "outputs": [],
   "source": [
    "every1000 = table[table.index % 1000 == 0]  # Selects every 1000th row starting from 0\n",
    "solarperiodic_data = every1000\n",
    "solarperiodic_data['Time'] = ((every1000['Time']) % 5061.6)\n"
   ]
  },
  {
   "cell_type": "markdown",
   "metadata": {},
   "source": [
    "#### This plot was made just to show that there is not a correlation between the Solar Phase and the time dependence of the data.  "
   ]
  },
  {
   "cell_type": "code",
   "execution_count": null,
   "metadata": {},
   "outputs": [],
   "source": [
    "h=plt.hist2d(solarperiodic_data['Time'], solarperiodic_data['Counts'], bins = [50, 25])\n",
    "plt.ylabel('Counts'); plt.xlabel('Time within Solar Phase period')\n"
   ]
  },
  {
   "cell_type": "markdown",
   "metadata": {},
   "source": [
    "#### Here I have created a model for the background which is made by a Poisson distribution that uses the average value of counts over the time period of collection. In these 10 plots I have divided the data shown above that is taken relative to the period of Earth's Longitude into 10 equally sized time chunks each 540 seconds long. "
   ]
  },
  {
   "cell_type": "code",
   "execution_count": null,
   "metadata": {},
   "outputs": [],
   "source": [
    "x = np.linspace(0,25,26)\n",
    "period1 = periodic_shift.query(f'{540*0} < Time < {540*1}')\n",
    "period2 = periodic_shift.query(f'{540*1} < Time < {540*2}')\n",
    "period3 = periodic_shift.query(f'{540*2} < Time < {540*3}')\n",
    "period4 = periodic_shift.query(f'{540*3} < Time < {540*4}')\n",
    "period5 = periodic_shift.query(f'{540*4} < Time < {540*5}')\n",
    "period6 = periodic_shift.query(f'{540*5} < Time < {540*6}')\n",
    "period7 = periodic_shift.query(f'{540*6} < Time < {540*7}')\n",
    "period8 = periodic_shift.query(f'{540*7} < Time < {540*8}')\n",
    "period9 = periodic_shift.query(f'{540*8} < Time < {540*9}')\n",
    "period10 = periodic_shift.query(f'{540*9} < Time < {540*10}')\n",
    "fig, ([ax, ax2, ax3, ax4, ax5], [ax6, ax7, ax8, ax9, ax10]) = plt.subplots(nrows=2, ncols=5, figsize = (20, 8)); plt.yscale('log')\n",
    "ax.hist(period1['Counts'], bins = 23, density=True); ax.set_xlim(0,25); ax.plot(x, stats.poisson.pmf(x, period1['Counts'].mean())); ax.set_yscale('log')\n",
    "ax2.hist(period2['Counts'], bins = 21, density=True); ax2.set_xlim(0,25); ax2.plot(x, stats.poisson.pmf(x, period2['Counts'].mean())); ax2.set_yscale('log')\n",
    "ax3.hist(period3['Counts'], bins = 18, density=True); ax3.set_xlim(0,25); ax3.plot(x, stats.poisson.pmf(x, period3['Counts'].mean())); ax3.set_yscale('log')\n",
    "ax4.hist(period4['Counts'], bins = 19, density=True); ax4.set_xlim(0,25); ax4.plot(x, stats.poisson.pmf(x, period4['Counts'].mean())); ax4.set_yscale('log')\n",
    "ax5.hist(period5['Counts'], bins = 17, density=True); ax5.set_xlim(0,25); ax5.plot(x, stats.poisson.pmf(x, period5['Counts'].mean())); ax5.set_yscale('log')\n",
    "ax6.hist(period6['Counts'], bins = 18, density=True); ax6.set_xlim(0,25); ax6.plot(x, stats.poisson.pmf(x, period6['Counts'].mean())); ax6.set_yscale('log')\n",
    "ax7.hist(period7['Counts'], bins = 16, density=True); ax7.set_xlim(0,25); ax7.plot(x, stats.poisson.pmf(x, period7['Counts'].mean())); ax7.set_yscale('log')\n",
    "ax8.hist(period8['Counts'], bins = 17, density=True); ax8.set_xlim(0,25); ax8.plot(x, stats.poisson.pmf(x, period8['Counts'].mean())); ax8.set_yscale('log')\n",
    "ax9.hist(period9['Counts'], bins = 17, density=True); ax9.set_xlim(0,25); ax9.plot(x, stats.poisson.pmf(x, period9['Counts'].mean())); ax9.set_yscale('log')\n",
    "ax10.hist(period10['Counts'], bins = 17, density=True); ax10.set_xlim(0,25); ax10.plot(x, stats.poisson.pmf(x, period10['Counts'].mean())); ax10.set_yscale('log')\n"
   ]
  },
  {
   "cell_type": "markdown",
   "metadata": {},
   "source": [
    "#### Next, I model the \"average\" of the Poisson distribution over time with a slight overestimate so as to not accidentally detect something that shouldn't be. The model is not perfect but it appears to work fairly well for the background distribution given. "
   ]
  },
  {
   "cell_type": "code",
   "execution_count": null,
   "metadata": {},
   "outputs": [],
   "source": [
    "x = np.linspace(270,5130, 9)\n",
    "y = [period1['Counts'].mean(),period2['Counts'].mean(),period3['Counts'].mean(),period4['Counts'].mean(),period5['Counts'].mean(),period6['Counts'].mean(),period7['Counts'].mean(),period8['Counts'].mean(),period9['Counts'].mean()]\n",
    "average = np.e**(-((x) % 5400)/1550)*5.8 + 5.7\n",
    "plt.plot(x,y)\n",
    "plt.plot(x,average)\n",
    "#plt.yscale('log')\n",
    "def background(x):\n",
    "    average = np.e**(-((x-4040) % 5400)/1550)*5.8 + 5.7\n",
    "    return average\n"
   ]
  },
  {
   "cell_type": "markdown",
   "metadata": {},
   "source": [
    "#### This is where I went through the entire dataset of the experiment in sets of 500000 to see if there were any points in time that had a mishap in the collection. Just about every point looked the same so I concluded that there was no specific time periods in which contaminated data existed. Also alongside this data is the plotted 'Average' to be used to model the Poisson background distribution at each point, which appears to follw very well. "
   ]
  },
  {
   "cell_type": "code",
   "execution_count": null,
   "metadata": {},
   "outputs": [],
   "source": [
    "m = 13\n",
    "start = 500000*m; n = 500000\n",
    "testbed = table[start:start + n]"
   ]
  },
  {
   "cell_type": "code",
   "execution_count": null,
   "metadata": {},
   "outputs": [],
   "source": [
    "plt.plot(testbed['Time'], testbed['Counts'])\n",
    "y = background(testbed['Time'])\n",
    "plt.plot(testbed['Time'], y)"
   ]
  },
  {
   "cell_type": "markdown",
   "metadata": {},
   "source": [
    "#### A set of plots describing again how the solar phase does not affect the number of counts."
   ]
  },
  {
   "cell_type": "code",
   "execution_count": null,
   "metadata": {},
   "outputs": [],
   "source": [
    "fig, (ax, ax2) = plt.subplots(2, 1)\n",
    "h = ax.hist2d(every1000['Solar Phase'], every1000['Counts'], bins=[100, 25])\n",
    "h = ax2.hist2d(periodic_shift['Solar Phase'], periodic_shift['Counts'], bins=[100, 25])"
   ]
  },
  {
   "cell_type": "markdown",
   "metadata": {},
   "source": [
    "#### A set of plots describing again the dependence on Earths Longitude. "
   ]
  },
  {
   "cell_type": "code",
   "execution_count": null,
   "metadata": {},
   "outputs": [],
   "source": [
    "fig, (ax, ax2) = plt.subplots(2, 1)\n",
    "h = ax.hist2d(every1000['Earth Longitude'], every1000['Counts'], bins=[54, 25])\n",
    "h = ax2.hist2d(periodic_shift['Earth Longitude'], periodic_shift['Counts'], bins=[54, 25])"
   ]
  },
  {
   "cell_type": "markdown",
   "metadata": {},
   "source": [
    "#### This plot shows how when taking regularly spaced data points, it is unclear that there is any time dependence at all, but after taking into consideration the metadata, there is a clear correlation between time and the number of counts. Time dependence is really only a product of the regular periods of detection as it really happens to be correlated to Earth Longitude. "
   ]
  },
  {
   "cell_type": "code",
   "execution_count": null,
   "metadata": {},
   "outputs": [],
   "source": [
    "fig, (ax, ax2) = plt.subplots(2, 1)\n",
    "h = ax.hist2d(every1000['Time'], every1000['Counts'], bins=[54, 25])\n",
    "h = ax2.hist2d(periodic_shift['Time'], periodic_shift['Counts'], bins=[54, 25])"
   ]
  },
  {
   "cell_type": "markdown",
   "metadata": {},
   "source": [
    "## Problem 1) \n",
    "### 1) \n",
    "There were not any points in time throught the data collection that stuck out as \"contaminated\" data or in other words, irregular behavior from the rest of the set. I did see that both the Solar Phase and Earth Longitude were periodic, with different periods, and so I further investigated the effects of both of those parameters on the number of signals collected. I planned to find what correlations there were between the metadata and the number of counts, and with that data create a variable background distribution that will function optimally for any time during the set. \n",
    "### 2) \n",
    "The background changes with Earth's Longitude (not time) but because the time and longitude change with each other this correlation can be realized as time-dependent. I found that if you use the Modulo operator % 5400 on the time of the data, it creates a coherent plot that describes how the background changes. The background should follow a Poissonian profile, as the measurement is gamma rays which are discrete independent signals with an 'average' rate. This rate actually changes during the course of the longitude period of 5400 gps seconds and follows an inverse polynomial function. \n",
    "### 3) \n",
    "My background data follows a variable Poissonian distribution. This distribution is described by $ {\\displaystyle {\\frac {\\lambda ^{k}e^{-\\lambda }}{k!}}}$ where $\\lambda = 5e^{-\\frac{T~ \\text{mod}(5400)}{1550}} + 5.7$. Here I will plot the average against the distribution as well as provide different time integrations that should show adherence to the background at those times. "
   ]
  },
  {
   "cell_type": "code",
   "execution_count": null,
   "metadata": {},
   "outputs": [],
   "source": [
    "y = background(testbed['Time'])\n",
    "plt.scatter(testbed['Time'], testbed['Counts'], s=.01)\n",
    "plt.plot(testbed['Time'], y, color='r')"
   ]
  },
  {
   "cell_type": "code",
   "execution_count": null,
   "metadata": {},
   "outputs": [],
   "source": [
    "x = np.linspace(0,25,26)\n",
    "n1 = 35.; n11 = 45. # 10 gps second difference\n",
    "n2 = 5700.; n22 = 5800. # 100 gps second difference\n",
    "n3 = 15500.; n33 = 15800. #  300 gps second difference\n",
    "n4 = 33000.; n44 = 34000. # 1000 gps second difference\n",
    "n5 = 120000.; n55 = 125000. # 5000 gps second difference\n",
    "\n",
    "period1 = table.query(f'{n1} < Time < {n11}')\n",
    "period2 = table.query(f'{n2} < Time < {n22}')\n",
    "period3 = table.query(f'{n3} < Time < {n33}')\n",
    "period4 = table.query(f'{n4} < Time < {n44}')\n",
    "period5 = table.query(f'{n5} < Time < {n55}')\n",
    "fig, ([ax, ax2, ax3, ax4, ax5]) = plt.subplots(nrows=1, ncols=5, figsize = (20, 6));\n",
    "ax.hist(period1['Counts'], bins = int(max(period1['Counts']))+1, range=(0,max(period1['Counts'])), density=True); ax.set_xlim(0,25); ax.plot(x, stats.poisson.pmf(x, background(((n1+n11)/2)))); ax.set_yscale('log')\n",
    "ax2.hist(period2['Counts'], bins = int(max(period2['Counts']))+1, range=(0,max(period2['Counts'])), density=True); ax2.set_xlim(0,25); ax2.plot(x, stats.poisson.pmf(x, background((n2+n22)/2))); ax2.set_yscale('log')\n",
    "ax3.hist(period3['Counts'], bins = int(max(period3['Counts']))+1, range=(0,max(period3['Counts'])), density=True); ax3.set_xlim(0,28); ax3.plot(x, stats.poisson.pmf(x, background((n3+n33)/2))); ax3.set_yscale('log')\n",
    "ax4.hist(period4['Counts'], bins = int(max(period4['Counts']))+1, range=(0,max(period4['Counts'])), density=True); ax4.set_xlim(0,25); ax4.plot(x, stats.poisson.pmf(x, background((n4+n44)/2))); ax4.set_yscale('log')\n",
    "ax5.hist(period5['Counts'], bins = int(max(period5['Counts']))+1, range=(0,max(period5['Counts'])), density=True); ax5.set_xlim(0,25); ax5.plot(x, stats.poisson.pmf(x, background((n5+n55)/2))); ax5.set_yscale('log')\n",
    "ax.set_title('Integration over 10s'); ax2.set_title('Integration over 100s'); ax3.set_title('Integration over 300s'); ax4.set_title('Integration over 1000s'); ax5.set_title('Integration over 5000s')\n",
    "ax.set_ylabel('Probability (log-scale)'); ax.set_xlabel('Counts'); ax2.set_xlabel('Counts'); ax3.set_xlabel('Counts'); ax4.set_xlabel('Counts'); ax5.set_xlabel('Counts')"
   ]
  },
  {
   "cell_type": "markdown",
   "metadata": {},
   "source": [
    "It appears that a 10 second interval would not provide quite enough data for good background estimate, and a 5000 second interval ranges over too much time to be able to surround specific time and provide a well estimated distribution for that set. I have decided that with my method I will continue by using the 100s interval. The trick with this is to not let your times surround one of the discontinuous portions of the distribution, and by having all of my time sets end in the 40s, this can be avoided. "
   ]
  },
  {
   "cell_type": "code",
   "execution_count": null,
   "metadata": {},
   "outputs": [],
   "source": [
    "x = np.linspace(0,25,26)\n",
    "n1 = 40.; n11 = 140. # 100 gps second difference\n",
    "n2 = 5740.; n22 = 5840. # 100 gps second difference\n",
    "n3 = 15540.; n33 = 15640. #  100 gps second difference\n",
    "n4 = 33040.; n44 = 33140. # 100 gps second difference\n",
    "n5 = 120040.; n55 = 120140. # 100 gps second difference\n",
    "\n",
    "period1 = table.query(f'{n1} < Time < {n11}')\n",
    "period2 = table.query(f'{n2} < Time < {n22}')\n",
    "period3 = table.query(f'{n3} < Time < {n33}')\n",
    "period4 = table.query(f'{n4} < Time < {n44}')\n",
    "period5 = table.query(f'{n5} < Time < {n55}')\n",
    "fig, ([ax, ax2, ax3, ax4, ax5]) = plt.subplots(nrows=1, ncols=5, figsize = (20, 6));\n",
    "ax.hist(period1['Counts'], bins = int(max(period1['Counts']))+1, range=(0,max(period1['Counts'])), density=True); ax.set_xlim(0,25); ax.plot(x, stats.poisson.pmf(x, background(((n1+n11)/2)))); ax.set_yscale('log')\n",
    "ax2.hist(period2['Counts'], bins = int(max(period2['Counts']))+1, range=(0,max(period2['Counts'])), density=True); ax2.set_xlim(0,25); ax2.plot(x, stats.poisson.pmf(x, background((n2+n22)/2))); ax2.set_yscale('log')\n",
    "ax3.hist(period3['Counts'], bins = int(max(period3['Counts']))+1, range=(0,max(period3['Counts'])), density=True); ax3.set_xlim(0,28); ax3.plot(x, stats.poisson.pmf(x, background((n3+n33)/2))); ax3.set_yscale('log')\n",
    "ax4.hist(period4['Counts'], bins = int(max(period4['Counts']))+1, range=(0,max(period4['Counts'])), density=True); ax4.set_xlim(0,25); ax4.plot(x, stats.poisson.pmf(x, background((n4+n44)/2))); ax4.set_yscale('log')\n",
    "ax5.hist(period5['Counts'], bins = int(max(period5['Counts']))+1, range=(0,max(period5['Counts'])), density=True); ax5.set_xlim(0,25); ax5.plot(x, stats.poisson.pmf(x, background((n5+n55)/2))); ax5.set_yscale('log')\n",
    "ax.set_title(f'Integration of {n1} to {n11}s'); ax2.set_title(f'Integration of {n2} to {n22}s'); ax3.set_title(f'Integration of {n3} to {n33}s'); ax4.set_title(f'Integration of {n4} to {n44}s'); ax5.set_title(f'Integration of {n5} to {n55}s')\n",
    "ax.set_ylabel('Probability (log-scale)'); ax.set_xlabel('Counts'); ax2.set_xlabel('Counts'); ax3.set_xlabel('Counts'); ax4.set_xlabel('Counts'); ax5.set_xlabel('Counts')"
   ]
  },
  {
   "cell_type": "markdown",
   "metadata": {},
   "source": [
    "I believe that my model works very well for this dataset. I also, think that it could be improved by better establishing my average value formula for the Poisson distribution, but this set seems to work for now. Maybe at a later date I could go and patch my formula for even better results. "
   ]
  },
  {
   "cell_type": "markdown",
   "metadata": {},
   "source": [
    "## 4)\n",
    "Now that I have created a working background distribution, I am to find the sigma value for detecting a .1s (100 millisecond) GRB from my background distribution. I will calculate this for different times throughout the distribution. "
   ]
  },
  {
   "cell_type": "code",
   "execution_count": null,
   "metadata": {},
   "outputs": [],
   "source": [
    "prob5sigma = 1/3.5e6\n",
    "n = 1; m = n +.1\n",
    "d = stats.poisson.ppf(1 - prob5sigma, background(((n+m)/2)))\n",
    "print(f'Measurement at t = {n} has 5 sigma value at {d}')\n",
    "n = 100; m = n +.1\n",
    "d = stats.poisson.ppf(1 - prob5sigma, background(((n+m)/2)))\n",
    "print(f'Measurement at t = {n} has 5 sigma value at {d}')\n",
    "n = 1000; m = n +.1\n",
    "d = stats.poisson.ppf(1 - prob5sigma, background(((n+m)/2)))\n",
    "print(f'Measurement at t = {n} has 5 sigma value at {d}')\n",
    "n = 10000; m = n +.1\n",
    "d = stats.poisson.ppf(1 - prob5sigma, background(((n+m)/2)))\n",
    "print(f'Measurement at t = {n} has 5 sigma value at {d}')\n",
    "n = 100000; m = n +.1\n",
    "d = stats.poisson.ppf(1 - prob5sigma, background(((n+m)/2)))\n",
    "print(f'Measurement at t = {n} has 5 sigma value at {d}')\n",
    "n = 1000000; m = n +.1\n",
    "d = stats.poisson.ppf(1 - prob5sigma, background(((n+m)/2)))\n",
    "print(f'Measurement at t = {n} has 5 sigma value at {d}')\n"
   ]
  },
  {
   "cell_type": "markdown",
   "metadata": {},
   "source": [
    "I have averaged all of the periods of Earth Longitude to give a visual representation of how the distribution should look for a millisecond GRB at different times in the set. This in principal would introduce a trials factor associated to the number of periods searched through, and therefore this visualization isn't completely accurate. But this works as a good visual tool to show that my model follows a trend for estimating the background at different millisecond time periods. The data set only has a single value per millisecond which would not be a good set to base my model off which is why my model is set from the aggregate data. "
   ]
  },
  {
   "cell_type": "code",
   "execution_count": null,
   "metadata": {},
   "outputs": [],
   "source": [
    "x = np.linspace(0,25,26)\n",
    "periodic_data = table\n",
    "periodic_data['Time'] = ((table['Time']) % 5400)\n",
    "n1 = 20.; n11 = n1+1 # 100 gps second difference\n",
    "n2 = 40.; n22 = n2+1 # 100 gps second difference\n",
    "n3 = 500.; n33 = n3+1 #  100 gps second difference\n",
    "n4 = 2000.; n44 = n4+1 # 100 gps second difference\n",
    "n5 = 3600.; n55 = n5+1 # 100 gps second difference\n",
    "\n",
    "period1 = periodic_data.query(f'{n1} < Time < {n11}')\n",
    "period2 = periodic_data.query(f'{n2} < Time < {n22}')\n",
    "period3 = periodic_data.query(f'{n3} < Time < {n33}')\n",
    "period4 = periodic_data.query(f'{n4} < Time < {n44}')\n",
    "period5 = periodic_data.query(f'{n5} < Time < {n55}')\n",
    "fig, ([ax, ax2, ax3, ax4, ax5]) = plt.subplots(nrows=1, ncols=5, figsize = (20, 6));\n",
    "ax.hist(period1['Counts'], bins = int(max(period1['Counts']))+1, range=(0,max(period1['Counts'])), density=True); ax.set_xlim(0,25); ax.plot(x, stats.poisson.pmf(x, background(((n1+n11)/2)))); ax.set_yscale('log')\n",
    "ax2.hist(period2['Counts'], bins = int(max(period2['Counts']))+1, range=(0,max(period2['Counts'])), density=True); ax2.set_xlim(0,25); ax2.plot(x, stats.poisson.pmf(x, background((n2+n22)/2))); ax2.set_yscale('log')\n",
    "ax3.hist(period3['Counts'], bins = int(max(period3['Counts']))+1, range=(0,max(period3['Counts'])), density=True); ax3.set_xlim(0,28); ax3.plot(x, stats.poisson.pmf(x, background((n3+n33)/2))); ax3.set_yscale('log')\n",
    "ax4.hist(period4['Counts'], bins = int(max(period4['Counts']))+1, range=(0,max(period4['Counts'])), density=True); ax4.set_xlim(0,25); ax4.plot(x, stats.poisson.pmf(x, background((n4+n44)/2))); ax4.set_yscale('log')\n",
    "ax5.hist(period5['Counts'], bins = int(max(period5['Counts']))+1, range=(0,max(period5['Counts'])), density=True); ax5.set_xlim(0,25); ax5.plot(x, stats.poisson.pmf(x, background((n5+n55)/2))); ax5.set_yscale('log')\n",
    "ax.set_title(f'Integration of {n1} to {n11}s'); ax2.set_title(f'Integration of {n2} to {n22}s'); ax3.set_title(f'Integration of {n3} to {n33}s'); ax4.set_title(f'Integration of {n4} to {n44}s'); ax5.set_title(f'Integration of {n5} to {n55}s')\n",
    "ax.set_ylabel('Probability (log-scale)'); ax.set_xlabel('Counts'); ax2.set_xlabel('Counts'); ax3.set_xlabel('Counts'); ax4.set_xlabel('Counts'); ax5.set_xlabel('Counts')"
   ]
  },
  {
   "cell_type": "code",
   "execution_count": null,
   "metadata": {},
   "outputs": [],
   "source": []
  },
  {
   "cell_type": "markdown",
   "metadata": {},
   "source": [
    "## Problem 2)"
   ]
  },
  {
   "cell_type": "code",
   "execution_count": null,
   "metadata": {},
   "outputs": [],
   "source": [
    "hf = h5py.File('images.h5', 'r')\n",
    "hf.keys()\n",
    "image1 = np.array(hf.get('image1'))\n",
    "other9 = np.array(hf.get('imagestack'))\n",
    "image2 = other9[:,:,0]\n",
    "image3 = other9[:,:,1]\n",
    "image4 = other9[:,:,2]\n",
    "image5 = other9[:,:,3]\n",
    "image6 = other9[:,:,4]\n",
    "image7 = other9[:,:,5]\n",
    "image8 = other9[:,:,6]\n",
    "image9 = other9[:,:,7]\n",
    "image10 = other9[:,:,8]\n",
    "image11 = other9[:,:,9]\n",
    "composite = (image1+image2+image3+image4+image5+image6+image7+image8+image9+image10+image11)/11\n",
    "plt.imshow(composite)"
   ]
  },
  {
   "cell_type": "code",
   "execution_count": null,
   "metadata": {},
   "outputs": [],
   "source": [
    "fig, ([ax1, ax2, ax3, ax4, ax5], [ax6, ax7, ax8, ax9, ax10])  = plt.subplots(2,5, figsize = (20,10))\n",
    "ax1.imshow(image1)\n",
    "ax2.imshow(image2)\n",
    "ax3.imshow(image3)\n",
    "ax4.imshow(image4)\n",
    "ax5.imshow(image5)\n",
    "ax6.imshow(image6)\n",
    "ax7.imshow(image7)\n",
    "ax8.imshow(image8)\n",
    "ax9.imshow(image9)\n",
    "ax10.imshow(image10)"
   ]
  },
  {
   "cell_type": "markdown",
   "metadata": {},
   "source": [
    "From the images, the background doesn't have any sort of spatial variation. It appears as a 'fog' over the entire image with a relatively constant value. "
   ]
  },
  {
   "cell_type": "code",
   "execution_count": null,
   "metadata": {},
   "outputs": [],
   "source": [
    "fig, ([ax1, ax2, ax3, ax4, ax5], [ax6, ax7, ax8, ax9, ax10])  = plt.subplots(2,5, figsize = (20,10))\n",
    "h =ax1.hist(image1); #plt.xlim(2,50);\n",
    "ax1.set_ylim(0,5)\n",
    "h =ax2.hist(image2); #plt.xlim(2,50);\n",
    "ax2.set_ylim(0,5)\n",
    "h =ax3.hist(image3); #plt.xlim(2,50);\n",
    "ax3.set_ylim(0,5)\n",
    "h =ax4.hist(image4); #plt.xlim(2,50);\n",
    "ax4.set_ylim(0,5)\n",
    "h =ax5.hist(image5); #plt.xlim(2,50);\n",
    "ax5.set_ylim(0,5)\n",
    "h =ax6.hist(image6); #plt.xlim(2,50);\n",
    "ax6.set_ylim(0,5)\n",
    "h =ax7.hist(image7); #plt.xlim(2,50);\n",
    "ax7.set_ylim(0,5)\n",
    "h =ax8.hist(image8); #plt.xlim(2,50);\n",
    "ax8.set_ylim(0,5)\n",
    "h =ax9.hist(image9); #plt.xlim(2,50);\n",
    "ax9.set_ylim(0,5)\n",
    "h =ax10.hist(image10); #plt.xlim(2,50);\n",
    "ax10.set_ylim(0,5)"
   ]
  },
  {
   "cell_type": "code",
   "execution_count": null,
   "metadata": {},
   "outputs": [],
   "source": [
    "h =plt.hist(composite); #plt.xlim(2,50);\n",
    "#plt.ylim(0,5)\n",
    "plt.xlim(-5,50)"
   ]
  },
  {
   "cell_type": "code",
   "execution_count": null,
   "metadata": {},
   "outputs": [],
   "source": [
    "fig, ([ax1, ax2, ax3, ax4, ax5], [ax6, ax7, ax8, ax9, ax10])  = plt.subplots(2,5, figsize = (20,10))\n",
    "h =ax1.hist(image1); ax1.set_xlim(-2.5,2.5);\n",
    "#ax1.set_ylim(0,5)\n",
    "h =ax2.hist(image2); ax2.set_xlim(-2.5,2.5);\n",
    "#ax2.set_ylim(0,5)\n",
    "h =ax3.hist(image3); ax3.set_xlim(-2.5,2.5);\n",
    "#ax3.set_ylim(0,5)\n",
    "h =ax4.hist(image4); ax4.set_xlim(-2.5,2.5);\n",
    "#ax4.set_ylim(0,5)\n",
    "h =ax5.hist(image5); ax5.set_xlim(-2.5,2.5);\n",
    "#ax5.set_ylim(0,5)\n",
    "h =ax6.hist(image6); ax6.set_xlim(-2.5,2.5);\n",
    "#ax6.set_ylim(0,5)\n",
    "h =ax7.hist(image7); ax7.set_xlim(-2.5,2.5);\n",
    "#ax7.set_ylim(0,5)\n",
    "h =ax8.hist(image8); ax8.set_xlim(-2.5,2.5);\n",
    "#ax8.set_ylim(0,5)\n",
    "h =ax9.hist(image9); ax9.set_xlim(-2.5,2.5);\n",
    "#ax9.set_ylim(0,5)\n",
    "h =ax10.hist(image10); ax10.set_xlim(-2.5,2.5);\n",
    "#ax10.set_ylim(0,5)"
   ]
  },
  {
   "cell_type": "markdown",
   "metadata": {},
   "source": [
    "After looking at this set of histograms I can see there is an amount of time dependence of the background signal, but the time dependence doesn't seem to have a set pattern. Because of this I have decided to model the background without time dependence and follows a uniform distribution from -2.1 to 2.1. \n",
    "$${PDF = \\begin{cases}{\\frac {1}{2\\cdot2.1}}&{\\text{for }}x\\in [-2.1,2.1]\\\\0&{\\text{otherwise}}\\end{cases}}$$\n",
    "\n",
    "I suspect the only form of background in this distribution is from \"Quantization Noise\". From wikipedia Quantization Noise is: The noise caused by quantizing the pixels of a sensed image to a number of discrete levels. It has an approximately uniform distribution. Though it can be signal dependent, it will be signal independent if other noise sources are big enough to cause dithering, or if dithering is explicitly applied.\n",
    "\n",
    "\n",
    "After taking this into account, we can remove any values that are within the range of the distribution and begin to look for transient stars. If there are stars that provide values that are within the uniform distribution, there would be no way to distinguish them from the background. By looking for pixels that have a specific hit a significant amount higher than their average, transient stars can be proposed. "
   ]
  },
  {
   "cell_type": "code",
   "execution_count": null,
   "metadata": {},
   "outputs": [],
   "source": [
    "fig, ([ax1, ax2, ax3, ax4, ax5], [ax6, ax7, ax8, ax9, ax10])  = plt.subplots(2,5, figsize = (20,10))\n",
    "h =ax1.hist(image1); ax1.set_xlim(2.1,50);\n",
    "ax1.set_ylim(0,3)\n",
    "h =ax2.hist(image2); ax2.set_xlim(2.1,50);\n",
    "ax2.set_ylim(0,3)\n",
    "h =ax3.hist(image3); ax3.set_xlim(2.1,50);\n",
    "ax3.set_ylim(0,3)\n",
    "h =ax4.hist(image4); ax4.set_xlim(2.1,50)\n",
    "ax4.set_ylim(0,3)\n",
    "h =ax5.hist(image5); ax5.set_xlim(2.1,50)\n",
    "ax5.set_ylim(0,3)\n",
    "h =ax6.hist(image6); ax6.set_xlim(2.1,50)\n",
    "ax6.set_ylim(0,3)\n",
    "h =ax7.hist(image7); ax7.set_xlim(2.1,50);\n",
    "ax7.set_ylim(0,3)\n",
    "h =ax8.hist(image8); ax8.set_xlim(2.1,50)\n",
    "ax8.set_ylim(0,3)\n",
    "h =ax9.hist(image9); ax9.set_xlim(2.1,50);\n",
    "ax9.set_ylim(0,3)\n",
    "h =ax10.hist(image10); ax10.set_xlim(2.1,50)\n",
    "ax10.set_ylim(0,3)"
   ]
  },
  {
   "cell_type": "markdown",
   "metadata": {},
   "source": [
    "Any sort of very bright flash of light (transient) will also get washed out through convolutions as it only appeared in one of the images (last one plotted). "
   ]
  },
  {
   "cell_type": "code",
   "execution_count": null,
   "metadata": {},
   "outputs": [],
   "source": []
  },
  {
   "cell_type": "code",
   "execution_count": null,
   "metadata": {},
   "outputs": [],
   "source": []
  },
  {
   "cell_type": "code",
   "execution_count": null,
   "metadata": {},
   "outputs": [],
   "source": []
  },
  {
   "cell_type": "code",
   "execution_count": null,
   "metadata": {},
   "outputs": [],
   "source": [
    "hf = h5py.File('images.h5', 'r')\n",
    "hf.keys()\n",
    "image0 = np.array(hf.get('image1'))\n",
    "other9 = np.array(hf.get('imagestack'))\n",
    "image1 = other9[:,:,0]\n",
    "image2 = other9[:,:,1]\n",
    "image3 = other9[:,:,2]\n",
    "image4 = other9[:,:,3]\n",
    "image5 = other9[:,:,4]\n",
    "image6 = other9[:,:,5]\n",
    "image7 = other9[:,:,6]\n",
    "image8 = other9[:,:,7]\n",
    "image9 = other9[:,:,8]\n",
    "image10 = other9[:,:,9]\n",
    "top = 2.1\n",
    "w, h = image1.shape\n",
    "# Convert non-black pixels to white\n",
    "for i in range(w):\n",
    "    for j in range(h):\n",
    "        if(image1[i, j] < top):\n",
    "            image1[i, j] = np.nan # Just change R channel\n",
    "for i in range(w):\n",
    "    for j in range(h):\n",
    "        if(image2[i, j] < top):\n",
    "            image2[i, j] = np.nan # Just change R channel\n",
    "for i in range(w):\n",
    "    for j in range(h):\n",
    "        if(image3[i, j] < top):\n",
    "            image3[i, j] = np.nan # Just change R channel\n",
    "for i in range(w):\n",
    "    for j in range(h):\n",
    "        if(image4[i, j] < top):\n",
    "            image4[i, j] = np.nan # Just change R channel\n",
    "for i in range(w):\n",
    "    for j in range(h):\n",
    "        if(image5[i, j] < top):\n",
    "            image5[i, j] = np.nan # Just change R channel\n",
    "for i in range(w):\n",
    "    for j in range(h):\n",
    "        if(image6[i, j] < top):\n",
    "            image6[i, j] = np.nan # Just change R channel\n",
    "for i in range(w):\n",
    "    for j in range(h):\n",
    "        if(image7[i, j] < top):\n",
    "            image7[i, j] = np.nan # Just change R channel\n",
    "for i in range(w):\n",
    "    for j in range(h):\n",
    "        if(image8[i, j] < top):\n",
    "            image8[i, j] = np.nan # Just change R channel\n",
    "for i in range(w):\n",
    "    for j in range(h):\n",
    "        if(image9[i, j] < top):\n",
    "            image9[i, j] = np.nan # Just change R channel\n",
    "for i in range(w):\n",
    "    for j in range(h):\n",
    "        if(image10[i, j] < top):\n",
    "            image10[i, j] = np.nan # Just change R channel\n",
    "            \n",
    "composite = (image1+image2+image3+image4+image5+image6+image7+image8+image9+image10)\n",
    "average = (image1+image2+image3+image4+image5+image6+image7+image8+image9+image10)/10\n",
    "\n",
    "plt.imshow(composite)"
   ]
  },
  {
   "cell_type": "code",
   "execution_count": null,
   "metadata": {},
   "outputs": [],
   "source": [
    "h = plt.hist(average)"
   ]
  },
  {
   "cell_type": "code",
   "execution_count": null,
   "metadata": {},
   "outputs": [],
   "source": [
    "fig, ([ax1, ax2, ax3, ax4, ax5], [ax6, ax7, ax8, ax9, ax10])  = plt.subplots(2,5, figsize = (20,10))\n",
    "h =ax1.hist(image1); #ax1.set_xlim(2.1,50);\n",
    "ax1.set_ylim(0,3)\n",
    "h =ax2.hist(image2); #ax2.set_xlim(2.1,50);\n",
    "ax2.set_ylim(0,3)\n",
    "h =ax3.hist(image3); #ax3.set_xlim(2.1,50);\n",
    "ax3.set_ylim(0,3)\n",
    "h =ax4.hist(image4); #ax4.set_xlim(2.1,50)\n",
    "ax4.set_ylim(0,3)\n",
    "h =ax5.hist(image5); #ax5.set_xlim(2.1,50)\n",
    "ax5.set_ylim(0,3)\n",
    "h =ax6.hist(image6); #ax6.set_xlim(2.1,50)\n",
    "ax6.set_ylim(0,3)\n",
    "h =ax7.hist(image7); #ax7.set_xlim(2.1,50);\n",
    "ax7.set_ylim(0,3)\n",
    "h =ax8.hist(image8); #ax8.set_xlim(2.1,50)\n",
    "ax8.set_ylim(0,3)\n",
    "h =ax9.hist(image9); #ax9.set_xlim(2.1,50);\n",
    "ax9.set_ylim(0,3)\n",
    "h =ax10.hist(image10); #ax10.set_xlim(2.1,50)\n",
    "ax10.set_ylim(0,3)"
   ]
  },
  {
   "cell_type": "code",
   "execution_count": null,
   "metadata": {},
   "outputs": [],
   "source": [
    "fig, ([ax1, ax2, ax3, ax4, ax5], [ax6, ax7, ax8, ax9, ax10])  = plt.subplots(2,5, figsize = (20,10))\n",
    "ax1.imshow(image1)\n",
    "ax2.imshow(image2)\n",
    "ax3.imshow(image3)\n",
    "ax4.imshow(image4)\n",
    "ax5.imshow(image5)\n",
    "ax6.imshow(image6)\n",
    "ax7.imshow(image7)\n",
    "ax8.imshow(image8)\n",
    "ax9.imshow(image9)\n",
    "ax10.imshow(image10)"
   ]
  },
  {
   "cell_type": "code",
   "execution_count": 300,
   "metadata": {},
   "outputs": [
    {
     "name": "stdout",
     "output_type": "stream",
     "text": [
      " image1[111, 138], 2.0615518749129857\n",
      " image2[112, 58], 2.5647445682607533\n",
      " image2[130, 177], 2.047324657921634\n",
      " image2[172, 63], 2.2935946892238293\n",
      " image6[17, 52], 2.0924020888418617\n",
      " image6[118, 174], 2.2994901367977105\n",
      " image6[119, 35], 2.1335320766666945\n",
      " image7[109, 123], 2.5177230681541616\n",
      " image8[149, 167], 2.082199686955314\n",
      " image8[161, 51], 2.254324986705368\n",
      " image8[170, 37], 2.1114384257871106\n",
      " image8[196, 91], 2.16128143816267\n",
      " image10[17, 120], 2.1373436295886723\n",
      " image10[61, 163], 2.184497407761197\n"
     ]
    }
   ],
   "source": [
    "hf = h5py.File('images.h5', 'r')\n",
    "hf.keys()\n",
    "image0 = np.array(hf.get('image1'))\n",
    "other9 = np.array(hf.get('imagestack'))\n",
    "image1 = other9[:,:,0]\n",
    "image2 = other9[:,:,1]\n",
    "image3 = other9[:,:,2]\n",
    "image4 = other9[:,:,3]\n",
    "image5 = other9[:,:,4]\n",
    "image6 = other9[:,:,5]\n",
    "image7 = other9[:,:,6]\n",
    "image8 = other9[:,:,7]\n",
    "image9 = other9[:,:,8]\n",
    "image10 = other9[:,:,9]\n",
    "composite = (image1+image2+image3+image4+image5+image6+image7+image8+image9+image10)/10\n",
    "\n",
    "top = 0; add = -2\n",
    "w, h = image1.shape\n",
    "# Convert non-black pixels to white\n",
    "for i in range(w):\n",
    "    for j in range(h):\n",
    "        if(image1[i, j] - composite[i,j] + add < top or image1[i, j] < 2.1):\n",
    "            image1[i, j] = np.nan # Just change R channel\n",
    "        else: \n",
    "            print(f' image1{[i,j]}, {image1[i,j] - composite[i,j]}')\n",
    "for i in range(w):\n",
    "    for j in range(h):\n",
    "        if(image2[i, j] - composite[i,j]+add < top or image2[i, j] < 2.1):\n",
    "            image2[i, j] = np.nan # Just change R channel\n",
    "        else:\n",
    "            print(f' image2{[i,j]}, {image2[i,j] - composite[i,j]}')\n",
    "for i in range(w):\n",
    "    for j in range(h):\n",
    "        if(image3[i, j] - composite[i,j]+add < top or image3[i, j] < 2.1):\n",
    "            image3[i, j] = np.nan # Just change R channel\n",
    "        else:\n",
    "            print(f' image3{[i,j]}, {image3[i,j] - composite[i,j]}')\n",
    "for i in range(w):\n",
    "    for j in range(h):\n",
    "        if(image4[i, j] - composite[i,j]+add < top or image4[i, j] < 2.1):\n",
    "            image4[i, j] = np.nan # Just change R channel\n",
    "        else:\n",
    "            print(f' image4{[i,j]}, {image4[i,j] - composite[i,j]}')\n",
    "for i in range(w):\n",
    "    for j in range(h):\n",
    "        if(image5[i, j] - composite[i,j]+add < top or image5[i, j] < 2.1):\n",
    "            image5[i, j] = np.nan # Just change R channel\n",
    "        else:\n",
    "            print(f' image5{[i,j]}, {image5[i,j] - composite[i,j]}')\n",
    "for i in range(w):\n",
    "    for j in range(h):\n",
    "        if(image6[i, j] - composite[i,j]+add < top or image6[i, j] < 2.1):\n",
    "            image6[i, j] = np.nan # Just change R channel\n",
    "        else:\n",
    "            print(f' image6{[i,j]}, {image6[i,j] - composite[i,j]}')\n",
    "for i in range(w):\n",
    "    for j in range(h):\n",
    "        if(image7[i, j] - composite[i,j]+add < top or image7[i, j] < 2.1):\n",
    "            image7[i, j] = np.nan # Just change R channel\n",
    "        else:\n",
    "            print(f' image7{[i,j]}, {image7[i,j] - composite[i,j]}')\n",
    "for i in range(w):\n",
    "    for j in range(h):\n",
    "        if(image8[i, j] - composite[i,j]+add < top or image8[i, j] < 2.1):\n",
    "            image8[i, j] = np.nan # Just change R channel\n",
    "        else:\n",
    "            print(f' image8{[i,j]}, {image8[i,j] - composite[i,j]}')\n",
    "for i in range(w):\n",
    "    for j in range(h):\n",
    "        if(image9[i, j] - composite[i,j]+add < top or image9[i, j] < 2.1):\n",
    "            image9[i, j] = np.nan # Just change R channel\n",
    "        else:\n",
    "            print(f' image9{[i,j]}, {image9[i,j] - composite[i,j]}')\n",
    "for i in range(w):\n",
    "    for j in range(h):\n",
    "        if(image10[i, j] - composite[i,j]+add < top or image10[i, j] < 2.1):\n",
    "            image10[i, j] = np.nan # Just change R channel\n",
    "        else:\n",
    "            print(f' image10{[i,j]}, {image10[i,j] - composite[i,j]}')\n",
    "\n",
    "\n",
    "            \n",
    "#plt.imshow(composite)"
   ]
  },
  {
   "cell_type": "markdown",
   "metadata": {},
   "source": [
    "points of interest are  image6[17, 52], image2[112, 58], image7[109, 123], image6[118, 174], image2[172, 63], and image8[161, 51] becaues they have the larges variances from their mean. [17,52] is the only point of this set that has an average value greater than 3 which makes me think the ~ transient ~ could be a flash from a star."
   ]
  },
  {
   "cell_type": "markdown",
   "metadata": {},
   "source": [
    "I will be looking at the data at pixel [17,52] on image 6 as it is the only pixel that is greater than 3 in brightness and appears as a spike in brihgtness for that pixel. "
   ]
  },
  {
   "cell_type": "code",
   "execution_count": 315,
   "metadata": {},
   "outputs": [],
   "source": [
    "hf = h5py.File('images.h5', 'r')\n",
    "hf.keys()\n",
    "image0 = np.array(hf.get('image1'))\n",
    "other9 = np.array(hf.get('imagestack'))\n",
    "image1 = other9[:,:,0]\n",
    "image2 = other9[:,:,1]\n",
    "image3 = other9[:,:,2]\n",
    "image4 = other9[:,:,3]\n",
    "image5 = other9[:,:,4]\n",
    "image6 = other9[:,:,5]\n",
    "image7 = other9[:,:,6]\n",
    "image8 = other9[:,:,7]\n",
    "image9 = other9[:,:,8]\n",
    "image10 = other9[:,:,9]\n",
    "composite = (image1+image2+image3+image4+image5+image6+image7+image8+image9+image10)/10\n",
    "x = 17; y = 52\n",
    "interest = [image1[x,y], image2[x,y], image3[x,y], image4[x,y], image5[x,y], image6[x,y], image7[x,y], image8[x,y], image9[x,y], image10[x,y]]"
   ]
  },
  {
   "cell_type": "code",
   "execution_count": 316,
   "metadata": {},
   "outputs": [
    {
     "data": {
      "text/plain": [
       "[<matplotlib.lines.Line2D at 0x7fb04f6d6e50>]"
      ]
     },
     "execution_count": 316,
     "metadata": {},
     "output_type": "execute_result"
    },
    {
     "data": {
      "image/png": "[encoded data removed]",
      "text/plain": [
       "<Figure size 720x432 with 1 Axes>"
      ]
     },
     "metadata": {
      "needs_background": "light"
     },
     "output_type": "display_data"
    }
   ],
   "source": [
    "plt.plot(interest)"
   ]
  },
  {
   "cell_type": "markdown",
   "metadata": {},
   "source": [
    "I believe I have found a transient at Image 6 pixel [17,52]. Because of the shape of the curve of the brightness of this pixel, I believe this is the best candidate to be the transient. "
   ]
  },
  {
   "cell_type": "markdown",
   "metadata": {},
   "source": [
    "I have concluded that the transient is in fact at pixel 17, 52 because of the fact that we were told \"A transient appears once in the dataset\" and that there is a notable figure in the sky at that point. This leads me to believe that a star dimmed and then flashed at this point. Even though this wasn't the largest difference from the average out of all of the datasets, I think it is more likely to be the culpret because there is definitely a star at that point. Even though I set my background PDF to be uniform from -2.1 to 2.1 I believe that it is still likely to have some background noise that works in combination with maybe chip malfunction or other source of noise, so the difference at a point that definitely has a star should be the most likely to be the transient. "
   ]
  },
  {
   "cell_type": "code",
   "execution_count": null,
   "metadata": {},
   "outputs": [],
   "source": []
  }
 ],
 "metadata": {
  "kernelspec": {
   "display_name": "Python 3",
   "language": "python",
   "name": "python3"
  },
  "language_info": {
   "codemirror_mode": {
    "name": "ipython",
    "version": 3
   },
   "file_extension": ".py",
   "mimetype": "text/x-python",
   "name": "python",
   "nbconvert_exporter": "python",
   "pygments_lexer": "ipython3",
   "version": "3.7.4"
  }
 },
 "nbformat": 4,
 "nbformat_minor": 4
}
