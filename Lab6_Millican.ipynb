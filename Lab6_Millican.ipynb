{
 "cells": [
  {
   "cell_type": "markdown",
   "metadata": {},
   "source": [
    "# Lab #6"
   ]
  },
  {
   "cell_type": "code",
   "execution_count": 2,
   "metadata": {},
   "outputs": [],
   "source": [
    "%matplotlib inline\n",
    "import numpy as np\n",
    "import matplotlib\n",
    "import matplotlib.pyplot as plt\n",
    "import matplotlib.image as mpimg\n",
    "import scipy\n",
    "from scipy import stats\n",
    "import h5py\n",
    "import pandas as pd\n",
    "import imageio\n",
    "import pickle as pkl\n",
    "\n",
    "#this sets the size of the plot to something useful\n",
    "plt.rcParams[\"figure.figsize\"] = (10,6)\n"
   ]
  },
  {
   "cell_type": "code",
   "execution_count": 3,
   "metadata": {},
   "outputs": [
    {
     "ename": "ModuleNotFoundError",
     "evalue": "No module named 'pandas.core.internals.managers'; 'pandas.core.internals' is not a package",
     "output_type": "error",
     "traceback": [
      "\u001b[0;31m---------------------------------------------------------------------------\u001b[0m",
      "\u001b[0;31mModuleNotFoundError\u001b[0m                       Traceback (most recent call last)",
      "\u001b[0;32m<ipython-input-3-9ce91c66bb24>\u001b[0m in \u001b[0;36m<module>\u001b[0;34m()\u001b[0m\n\u001b[0;32m----> 1\u001b[0;31m \u001b[0mqcd_before\u001b[0m \u001b[0;34m=\u001b[0m \u001b[0mpkl\u001b[0m\u001b[0;34m.\u001b[0m\u001b[0mload\u001b[0m\u001b[0;34m(\u001b[0m \u001b[0mopen\u001b[0m\u001b[0;34m(\u001b[0m \u001b[0;34m\"gcd.pkl\"\u001b[0m\u001b[0;34m,\u001b[0m \u001b[0;34m\"rb\"\u001b[0m \u001b[0;34m)\u001b[0m \u001b[0;34m)\u001b[0m\u001b[0;34m\u001b[0m\u001b[0m\n\u001b[0m\u001b[1;32m      2\u001b[0m \u001b[0mhiggs_before\u001b[0m \u001b[0;34m=\u001b[0m \u001b[0mpkl\u001b[0m\u001b[0;34m.\u001b[0m\u001b[0mload\u001b[0m\u001b[0;34m(\u001b[0m \u001b[0mopen\u001b[0m\u001b[0;34m(\u001b[0m \u001b[0;34m\"higgs.pkl\"\u001b[0m\u001b[0;34m,\u001b[0m \u001b[0;34m\"rb\"\u001b[0m\u001b[0;34m)\u001b[0m\u001b[0;34m)\u001b[0m\u001b[0;34m\u001b[0m\u001b[0m\n\u001b[1;32m      3\u001b[0m \u001b[0mqcd\u001b[0m \u001b[0;34m=\u001b[0m \u001b[0mpd\u001b[0m\u001b[0;34m.\u001b[0m\u001b[0mDataFrame\u001b[0m\u001b[0;34m(\u001b[0m\u001b[0mqcd_before\u001b[0m\u001b[0;34m,\u001b[0m \u001b[0mcolumns\u001b[0m\u001b[0;34m=\u001b[0m\u001b[0;34m[\u001b[0m\u001b[0;34m'pt'\u001b[0m\u001b[0;34m,\u001b[0m \u001b[0;34m'eta'\u001b[0m\u001b[0;34m,\u001b[0m \u001b[0;34m'phi'\u001b[0m\u001b[0;34m,\u001b[0m \u001b[0;34m'mass'\u001b[0m\u001b[0;34m,\u001b[0m \u001b[0;34m'ee2'\u001b[0m\u001b[0;34m,\u001b[0m \u001b[0;34m'ee3'\u001b[0m\u001b[0;34m,\u001b[0m \u001b[0;34m'd2'\u001b[0m\u001b[0;34m,\u001b[0m \u001b[0;34m'angularity'\u001b[0m\u001b[0;34m,\u001b[0m \u001b[0;34m't1'\u001b[0m\u001b[0;34m,\u001b[0m \u001b[0;34m't2'\u001b[0m\u001b[0;34m,\u001b[0m \u001b[0;34m't3'\u001b[0m\u001b[0;34m,\u001b[0m \u001b[0;34m't21'\u001b[0m\u001b[0;34m,\u001b[0m \u001b[0;34m't32'\u001b[0m\u001b[0;34m,\u001b[0m \u001b[0;34m'KtDeltaR'\u001b[0m\u001b[0;34m]\u001b[0m\u001b[0;34m)\u001b[0m\u001b[0;34m\u001b[0m\u001b[0m\n\u001b[1;32m      4\u001b[0m \u001b[0mhiggs\u001b[0m \u001b[0;34m=\u001b[0m \u001b[0mpd\u001b[0m\u001b[0;34m.\u001b[0m\u001b[0mDataFrame\u001b[0m\u001b[0;34m(\u001b[0m\u001b[0mhiggs_before\u001b[0m\u001b[0;34m,\u001b[0m \u001b[0mcolumns\u001b[0m\u001b[0;34m=\u001b[0m\u001b[0;34m[\u001b[0m\u001b[0;34m'pt'\u001b[0m\u001b[0;34m,\u001b[0m \u001b[0;34m'eta'\u001b[0m\u001b[0;34m,\u001b[0m \u001b[0;34m'phi'\u001b[0m\u001b[0;34m,\u001b[0m \u001b[0;34m'mass'\u001b[0m\u001b[0;34m,\u001b[0m \u001b[0;34m'ee2'\u001b[0m\u001b[0;34m,\u001b[0m \u001b[0;34m'ee3'\u001b[0m\u001b[0;34m,\u001b[0m \u001b[0;34m'd2'\u001b[0m\u001b[0;34m,\u001b[0m \u001b[0;34m'angularity'\u001b[0m\u001b[0;34m,\u001b[0m \u001b[0;34m't1'\u001b[0m\u001b[0;34m,\u001b[0m \u001b[0;34m't2'\u001b[0m\u001b[0;34m,\u001b[0m \u001b[0;34m't3'\u001b[0m\u001b[0;34m,\u001b[0m \u001b[0;34m't21'\u001b[0m\u001b[0;34m,\u001b[0m \u001b[0;34m't32'\u001b[0m\u001b[0;34m,\u001b[0m \u001b[0;34m'KtDeltaR'\u001b[0m\u001b[0;34m]\u001b[0m\u001b[0;34m)\u001b[0m\u001b[0;34m\u001b[0m\u001b[0m\n",
      "\u001b[0;31mModuleNotFoundError\u001b[0m: No module named 'pandas.core.internals.managers'; 'pandas.core.internals' is not a package"
     ]
    }
   ],
   "source": [
    "qcd_before = pkl.load( open( \"gcd.pkl\", \"rb\" ) )\n",
    "higgs_before = pkl.load( open( \"higgs.pkl\", \"rb\"))\n",
    "qcd = pd.DataFrame(qcd_before, columns=['pt', 'eta', 'phi', 'mass', 'ee2', 'ee3', 'd2', 'angularity', 't1', 't2', 't3', 't21', 't32', 'KtDeltaR'])\n",
    "higgs = pd.DataFrame(higgs_before, columns=['pt', 'eta', 'phi', 'mass', 'ee2', 'ee3', 'd2', 'angularity', 't1', 't2', 't3', 't21', 't32', 'KtDeltaR'])"
   ]
  },
  {
   "cell_type": "markdown",
   "metadata": {},
   "source": [
    "## Problem 1)"
   ]
  },
  {
   "cell_type": "code",
   "execution_count": null,
   "metadata": {},
   "outputs": [],
   "source": [
    "x = np.linspace(0,1000, len(qcd['mass']))\n",
    "bkgd = stats.poisson.rvs(loc=0, mu=100, size = len(qcd['mass']))\n",
    "prob5sigma = 1/3.5e6\n",
    "detplus = stats.poisson.ppf(1 - prob5sigma, mu=100, loc=0)\n",
    "detminus = stats.poisson.ppf(prob5sigma, mu=100, loc=0)\n",
    "print(f'5 sigma signal strength for single pixel: {detminus} and {detplus}')"
   ]
  },
  {
   "cell_type": "markdown",
   "metadata": {},
   "source": [
    "5$\\sigma$  value is at 154. To show asymmetry, I calculated the other 5 sigma value to be at 54. The average value of the two 5 sigma points is offest from the center by 4. "
   ]
  },
  {
   "cell_type": "markdown",
   "metadata": {},
   "source": [
    "## Problem 2)"
   ]
  },
  {
   "cell_type": "code",
   "execution_count": null,
   "metadata": {},
   "outputs": [],
   "source": [
    "signal = stats.uniform.rvs(loc=999,scale=1, size = len(qcd['mass']))\n",
    "data = bkgd + signal\n",
    "\n",
    "signaledges = np.linspace(0,1000,200)\n",
    "dataedges = np.linspace(0,1000,200)\n",
    "\n",
    "#Psd, temp, temp2= np.histogram2d(data,signal, bins=[dataedges,signaledges], density=True)\n",
    "\n",
    "#datacenters = (dataedges[:-1] + dataedges[1:]) / 2\n",
    "#signalcenters = (signaledges[:-1] + signaledges[1:]) / 2\n",
    "#plt.pcolormesh(datacenters,signalcenters,Psd.T)\n",
    "#plt.ylabel('True signal, $P(s|d)$', fontsize = 24)\n",
    "#plt.xlabel('Observed data, $P(d|s)$', fontsize = 24)"
   ]
  },
  {
   "cell_type": "code",
   "execution_count": null,
   "metadata": {},
   "outputs": [],
   "source": [
    "plt.hist(data, bins = 100, density=True)\n",
    "plt.xlabel('Observed Signal')\n",
    "plt.ylabel('Probability')\n",
    "plt.title('True Signal = 1000')"
   ]
  },
  {
   "cell_type": "markdown",
   "metadata": {},
   "source": [
    "This histogram describes the spread of possible observed signal values from a true signal of 1000. If a true signal of 1000 was collected, these are the values and associated probabilities of what the background noise will cause the measurement tool to observe. "
   ]
  },
  {
   "cell_type": "markdown",
   "metadata": {},
   "source": [
    "The distribution of the observed signal is almost symmtric around a single point, ~1100 but because it is Poissonian there is a slightly larger tail to the right which is the source of some asymmetry. The observed signal is biased. The observed signal is always greater than the true signal because the background is always a positive value. "
   ]
  },
  {
   "cell_type": "markdown",
   "metadata": {},
   "source": [
    "## Problem 3)"
   ]
  },
  {
   "cell_type": "code",
   "execution_count": null,
   "metadata": {},
   "outputs": [],
   "source": [
    "bkgd = stats.poisson.rvs(loc=0, mu=100, size = 200*len(qcd['mass']))\n",
    "signal = stats.uniform.rvs(loc=0,scale=10000, size = 200*len(qcd['mass']))\n",
    "data = bkgd + signal\n",
    "\n",
    "signaledges = np.linspace(0,3000,200)\n",
    "dataedges = np.linspace(0,3000,200)\n",
    "\n",
    "Psd, temp, temp2= np.histogram2d(data,signal, bins=[dataedges,signaledges], density=True)\n",
    "\n",
    "datacenters = (dataedges[:-1] + dataedges[1:]) / 2\n",
    "signalcenters = (signaledges[:-1] + signaledges[1:]) / 2\n",
    "plt.pcolormesh(datacenters,signalcenters,Psd.T)\n",
    "plt.ylabel('True signal, $P(s|d)$', fontsize = 24)\n",
    "plt.xlabel('Observed data, $P(d|s)$', fontsize = 24)"
   ]
  },
  {
   "cell_type": "markdown",
   "metadata": {},
   "source": [
    "I have injected true signal values from 0 to 10000, which will allow me to see dicrepencies between the observed data and the actual signal. The 2D histogram represents and displays the correlation between true signals and their corresponding observed signals. This shows that for every true signal value, the corresponding observed signal is essentially 100 greater. "
   ]
  },
  {
   "cell_type": "code",
   "execution_count": null,
   "metadata": {},
   "outputs": [],
   "source": [
    "table = pd.DataFrame(columns = ['Background', 'Signal', 'Data'])\n",
    "table['Data'] = data\n",
    "table['Signal'] = signal\n",
    "table['Background'] = bkgd\n",
    "table \n",
    "\n",
    "## Maybe explain what this data is below and why you are using it. Obviously prof will know and so will TA, but explaining it will help someone who doesn't know get a better understanding"
   ]
  },
  {
   "cell_type": "code",
   "execution_count": 8,
   "metadata": {},
   "outputs": [
    {
     "data": {
      "text/plain": [
       "Text(0.5, 1.0, 'True Signal of 1000, Observed Signal Spread')"
      ]
     },
     "execution_count": 8,
     "metadata": {},
     "output_type": "execute_result"
    },
    {
     "data": {
      "image/png": "[encoded data removed]",
      "text/plain": [
       "<Figure size 720x432 with 1 Axes>"
      ]
     },
     "metadata": {
      "needs_background": "light"
     },
     "output_type": "display_data"
    }
   ],
   "source": [
    "signal1000 = table.query(f'999 < Signal < 1001')\n",
    "plt.hist(signal1000['Data'], bins =50, density = True)\n",
    "plt.xlabel('Observed Signal')\n",
    "plt.ylabel('Probability')\n",
    "plt.title('True Signal of 1000, Observed Signal Spread')"
   ]
  },
  {
   "cell_type": "markdown",
   "metadata": {},
   "source": [
    "This is the spread of possible observed signal values for a true signal value of 1000. It matches the one created above. It is nearly symmetric, and biased by relatively 100."
   ]
  },
  {
   "cell_type": "code",
   "execution_count": 9,
   "metadata": {},
   "outputs": [
    {
     "data": {
      "text/plain": [
       "Text(0.5, 1.0, 'Observed Signal of 1000, True Signal Possibility Spread')"
      ]
     },
     "execution_count": 9,
     "metadata": {},
     "output_type": "execute_result"
    },
    {
     "data": {
      "image/png": "[encoded data removed]",
      "text/plain": [
       "<Figure size 720x432 with 1 Axes>"
      ]
     },
     "metadata": {
      "needs_background": "light"
     },
     "output_type": "display_data"
    }
   ],
   "source": [
    "observed1000 = table.query(f'999 < Data < 1000')\n",
    "plt.hist(observed1000['Signal'], bins =50, density = True)\n",
    "plt.xlabel('True Signal')\n",
    "plt.ylabel('Probability')\n",
    "plt.title('Observed Signal of 1000, True Signal Possibility Spread')"
   ]
  },
  {
   "cell_type": "markdown",
   "metadata": {},
   "source": [
    "The above plot shows the True signal values and associated probabilities for an observation that yields 2500. The values are surrounding what corresponds to 100 (average background) subtracted from the observed signal. This makes sense as you would want to subtract the background from the observed signal to realize the true signal. \n",
    "\n",
    "100 what?? I would maybe explain this a little more"
   ]
  },
  {
   "cell_type": "markdown",
   "metadata": {},
   "source": [
    "By integrating the histogram of True signal values to find the bounds that provide 34% of the data to the right and left of the mean, we can find the 1$\\sigma$ values, and hence the uncertainty of the distribution. "
   ]
  },
  {
   "cell_type": "code",
   "execution_count": 39,
   "metadata": {},
   "outputs": [
    {
     "name": "stdout",
     "output_type": "stream",
     "text": [
      " 0.1797709486065272% and 869.5496975919848\n",
      " 0.17977094860734122% and 929.2294519755957\n",
      "1 sigma signal strength at: 869.5496975919848 and 929.2294519755957 which appear at distances from the mean: -30.450302408015204 and 29.22945197559568\n"
     ]
    }
   ],
   "source": [
    "hist, edges = np.histogram(observed1000['Signal'], bins = 8000, density=True)\n",
    "x=0\n",
    "for i in range(0, len(edges)):\n",
    "    if x < .16:\n",
    "        p1 = x\n",
    "    else:\n",
    "        print(f' {x}% and {edges[i]}')\n",
    "        x1 = edges[i]\n",
    "        break\n",
    "    x = x + hist[i]\n",
    "x=0   \n",
    "for i in range(0, len(edges)):\n",
    "    if x < .16:\n",
    "        p2 = x\n",
    "    else:\n",
    "        print(f' {x}% and {edges[-i]}')\n",
    "        x2 = edges[-i]\n",
    "        break   \n",
    "    x = x + hist[-i]\n",
    "print(f'1 sigma signal strength at: {x1} and {x2} which appear at distances from the mean: {x1-900} and {x2-900}')"
   ]
  },
  {
   "cell_type": "markdown",
   "metadata": {},
   "source": [
    "For the first two rows above, maybe give a little more context to see what is happening^^^^^^^"
   ]
  },
  {
   "cell_type": "markdown",
   "metadata": {},
   "source": [
    "The asymmetry can start to be seen even at the 1$\\sigma$ values. The 1$\\sigma$ uncertainty is $^{+29.2}_{-30.5}$ \n",
    "\n",
    "This means that the observed signal is equal to {True Signal Value}$+ 100 ^{+29.2}_{-30.5}$\n",
    "\n",
    "The observed signal is biased, and close to symmetric at least up to 1 sigma. \n",
    "\n",
    "This all makes sense because the background is always positive and the uncertainty of the background is slightly asymmetric so the distribution of possible true signals will also be slightly asymmetric. "
   ]
  },
  {
   "cell_type": "code",
   "execution_count": 40,
   "metadata": {},
   "outputs": [
    {
     "data": {
      "text/plain": [
       "<matplotlib.legend.Legend at 0x7fefc1932610>"
      ]
     },
     "execution_count": 40,
     "metadata": {},
     "output_type": "execute_result"
    },
    {
     "data": {
      "image/png": "[encoded data removed]",
      "text/plain": [
       "<Figure size 720x432 with 1 Axes>"
      ]
     },
     "metadata": {
      "needs_background": "light"
     },
     "output_type": "display_data"
    }
   ],
   "source": [
    "plt.hist(signal1000['Data'], bins =100, density = True, histtype='step', label=\"Observed signal, True=1000\")\n",
    "plt.hist(observed1000['Signal'], bins =100, density = True, histtype='step', label=\"True signal, Observed=1000\")\n",
    "plt.xlabel('Signal')\n",
    "plt.ylabel('Probability')\n",
    "plt.legend()\n",
    "#plt.title('Observed Signal of 1000, True Signal Possibility Spread')"
   ]
  },
  {
   "cell_type": "markdown",
   "metadata": {},
   "source": [
    "The two histograms show the distributions of true signal given an exact observed distribution, and the observed signal distribution given a true signal value. Given values were 1000 in both cases"
   ]
  },
  {
   "cell_type": "code",
   "execution_count": null,
   "metadata": {},
   "outputs": [],
   "source": []
  },
  {
   "cell_type": "markdown",
   "metadata": {},
   "source": [
    "Nice, really well done. I would just make sure that you provide a touch more context and after that you should be good to go. "
   ]
  },
  {
   "cell_type": "code",
   "execution_count": null,
   "metadata": {},
   "outputs": [],
   "source": []
  }
 ],
 "metadata": {
  "kernelspec": {
   "display_name": "Python 3",
   "language": "python",
   "name": "python3"
  },
  "language_info": {
   "codemirror_mode": {
    "name": "ipython",
    "version": 3
   },
   "file_extension": ".py",
   "mimetype": "text/x-python",
   "name": "python",
   "nbconvert_exporter": "python",
   "pygments_lexer": "ipython3",
   "version": "3.6.5"
  }
 },
 "nbformat": 4,
 "nbformat_minor": 4
}
