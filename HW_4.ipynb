{
 "cells": [
  {
   "cell_type": "markdown",
   "metadata": {},
   "source": [
    "# Homework 4"
   ]
  },
  {
   "cell_type": "code",
<<<<<<< HEAD
   "execution_count": 44,
=======
   "execution_count": 2,
>>>>>>> abd6b6f2af83d85fec40103d3d8d39ff1d0ae728
   "metadata": {},
   "outputs": [],
   "source": [
    "%matplotlib inline\n",
    "import numpy as np\n",
    "import matplotlib\n",
    "import matplotlib.pyplot as plt\n",
    "import scipy\n",
    "from scipy import stats\n",
    "import pandas as pd\n",
    "\n",
    "#this sets the size of the plot to something useful\n",
    "plt.rcParams[\"figure.figsize\"] = (10,6)"
   ]
  },
  {
   "cell_type": "markdown",
   "metadata": {},
   "source": [
<<<<<<< HEAD
    "## Problem 0)\n",
=======
    "## Problem 0\n",
>>>>>>> abd6b6f2af83d85fec40103d3d8d39ff1d0ae728
    "Let's make some fake data"
   ]
  },
  {
   "cell_type": "code",
<<<<<<< HEAD
   "execution_count": 45,
=======
   "execution_count": 7,
>>>>>>> abd6b6f2af83d85fec40103d3d8d39ff1d0ae728
   "metadata": {},
   "outputs": [
    {
     "data": {
      "text/html": [
       "<div>\n",
       "<style scoped>\n",
       "    .dataframe tbody tr th:only-of-type {\n",
       "        vertical-align: middle;\n",
       "    }\n",
       "\n",
       "    .dataframe tbody tr th {\n",
       "        vertical-align: top;\n",
       "    }\n",
       "\n",
       "    .dataframe thead th {\n",
       "        text-align: right;\n",
       "    }\n",
       "</style>\n",
       "<table border=\"1\" class=\"dataframe\">\n",
       "  <thead>\n",
       "    <tr style=\"text-align: right;\">\n",
       "      <th></th>\n",
       "      <th>Time</th>\n",
       "      <th>Data</th>\n",
       "      <th>Background</th>\n",
       "    </tr>\n",
       "  </thead>\n",
       "  <tbody>\n",
       "    <tr>\n",
       "      <th>0</th>\n",
       "      <td>0.000000</td>\n",
       "      <td>10.000000</td>\n",
<<<<<<< HEAD
       "      <td>12.429309</td>\n",
=======
       "      <td>8.305002</td>\n",
>>>>>>> abd6b6f2af83d85fec40103d3d8d39ff1d0ae728
       "    </tr>\n",
       "    <tr>\n",
       "      <th>1</th>\n",
       "      <td>0.003142</td>\n",
       "      <td>10.003142</td>\n",
<<<<<<< HEAD
       "      <td>12.255018</td>\n",
=======
       "      <td>8.128887</td>\n",
>>>>>>> abd6b6f2af83d85fec40103d3d8d39ff1d0ae728
       "    </tr>\n",
       "    <tr>\n",
       "      <th>2</th>\n",
       "      <td>0.006283</td>\n",
       "      <td>10.006283</td>\n",
<<<<<<< HEAD
       "      <td>12.852097</td>\n",
=======
       "      <td>7.701300</td>\n",
>>>>>>> abd6b6f2af83d85fec40103d3d8d39ff1d0ae728
       "    </tr>\n",
       "    <tr>\n",
       "      <th>3</th>\n",
       "      <td>0.009425</td>\n",
       "      <td>10.009425</td>\n",
<<<<<<< HEAD
       "      <td>9.652997</td>\n",
=======
       "      <td>8.357231</td>\n",
>>>>>>> abd6b6f2af83d85fec40103d3d8d39ff1d0ae728
       "    </tr>\n",
       "    <tr>\n",
       "      <th>4</th>\n",
       "      <td>0.012566</td>\n",
       "      <td>10.012566</td>\n",
<<<<<<< HEAD
       "      <td>10.128732</td>\n",
=======
       "      <td>5.175446</td>\n",
>>>>>>> abd6b6f2af83d85fec40103d3d8d39ff1d0ae728
       "    </tr>\n",
       "    <tr>\n",
       "      <th>...</th>\n",
       "      <td>...</td>\n",
       "      <td>...</td>\n",
       "      <td>...</td>\n",
       "    </tr>\n",
       "    <tr>\n",
       "      <th>99995</th>\n",
       "      <td>314.146699</td>\n",
       "      <td>9.987434</td>\n",
<<<<<<< HEAD
       "      <td>10.749934</td>\n",
=======
       "      <td>15.516096</td>\n",
>>>>>>> abd6b6f2af83d85fec40103d3d8d39ff1d0ae728
       "    </tr>\n",
       "    <tr>\n",
       "      <th>99996</th>\n",
       "      <td>314.149840</td>\n",
       "      <td>9.990575</td>\n",
<<<<<<< HEAD
       "      <td>10.354255</td>\n",
=======
       "      <td>10.267850</td>\n",
>>>>>>> abd6b6f2af83d85fec40103d3d8d39ff1d0ae728
       "    </tr>\n",
       "    <tr>\n",
       "      <th>99997</th>\n",
       "      <td>314.152982</td>\n",
       "      <td>9.993717</td>\n",
<<<<<<< HEAD
       "      <td>12.333876</td>\n",
=======
       "      <td>10.257526</td>\n",
>>>>>>> abd6b6f2af83d85fec40103d3d8d39ff1d0ae728
       "    </tr>\n",
       "    <tr>\n",
       "      <th>99998</th>\n",
       "      <td>314.156124</td>\n",
       "      <td>9.996858</td>\n",
<<<<<<< HEAD
       "      <td>3.774132</td>\n",
=======
       "      <td>16.103171</td>\n",
>>>>>>> abd6b6f2af83d85fec40103d3d8d39ff1d0ae728
       "    </tr>\n",
       "    <tr>\n",
       "      <th>99999</th>\n",
       "      <td>314.159265</td>\n",
       "      <td>10.000000</td>\n",
<<<<<<< HEAD
       "      <td>7.752138</td>\n",
=======
       "      <td>8.383862</td>\n",
>>>>>>> abd6b6f2af83d85fec40103d3d8d39ff1d0ae728
       "    </tr>\n",
       "  </tbody>\n",
       "</table>\n",
       "<p>100000 rows × 3 columns</p>\n",
       "</div>"
      ],
      "text/plain": [
       "             Time       Data  Background\n",
<<<<<<< HEAD
       "0        0.000000  10.000000   12.429309\n",
       "1        0.003142  10.003142   12.255018\n",
       "2        0.006283  10.006283   12.852097\n",
       "3        0.009425  10.009425    9.652997\n",
       "4        0.012566  10.012566   10.128732\n",
       "...           ...        ...         ...\n",
       "99995  314.146699   9.987434   10.749934\n",
       "99996  314.149840   9.990575   10.354255\n",
       "99997  314.152982   9.993717   12.333876\n",
       "99998  314.156124   9.996858    3.774132\n",
       "99999  314.159265  10.000000    7.752138\n",
=======
       "0        0.000000  10.000000    8.305002\n",
       "1        0.003142  10.003142    8.128887\n",
       "2        0.006283  10.006283    7.701300\n",
       "3        0.009425  10.009425    8.357231\n",
       "4        0.012566  10.012566    5.175446\n",
       "...           ...        ...         ...\n",
       "99995  314.146699   9.987434   15.516096\n",
       "99996  314.149840   9.990575   10.267850\n",
       "99997  314.152982   9.993717   10.257526\n",
       "99998  314.156124   9.996858   16.103171\n",
       "99999  314.159265  10.000000    8.383862\n",
>>>>>>> abd6b6f2af83d85fec40103d3d8d39ff1d0ae728
       "\n",
       "[100000 rows x 3 columns]"
      ]
     },
<<<<<<< HEAD
     "execution_count": 45,
=======
     "execution_count": 7,
>>>>>>> abd6b6f2af83d85fec40103d3d8d39ff1d0ae728
     "metadata": {},
     "output_type": "execute_result"
    }
   ],
   "source": [
    "t = np.linspace(0,np.pi*100,np.int(1e5))\n",
    "N = 10+np.sin(t)\n",
    "bkgd = stats.norm.rvs(size=np.int(1e5))*np.sqrt(N)+N\n",
    "table = pd.DataFrame(data = None, index=None, columns = ['Time', 'Data', 'Background'])\n",
    "table['Time'] = t\n",
    "table['Data'] = N\n",
    "table['Background'] = bkgd\n",
    "table"
   ]
  },
  {
   "cell_type": "markdown",
   "metadata": {},
   "source": [
    "## Problem 1)\n",
    "I will show different ways to filter data. First, I will only look at the first 1000, then I will show how to select an arbitrary amount of points, and finally I will show how to only include every 10th point in the data set. "
   ]
  },
  {
   "cell_type": "code",
<<<<<<< HEAD
   "execution_count": 46,
=======
   "execution_count": 12,
>>>>>>> abd6b6f2af83d85fec40103d3d8d39ff1d0ae728
   "metadata": {},
   "outputs": [
    {
     "data": {
      "text/plain": [
<<<<<<< HEAD
       "<matplotlib.collections.PathCollection at 0x7f7c808c9c90>"
      ]
     },
     "execution_count": 46,
=======
       "<matplotlib.collections.PathCollection at 0x7f7c7f4c5410>"
      ]
     },
     "execution_count": 12,
>>>>>>> abd6b6f2af83d85fec40103d3d8d39ff1d0ae728
     "metadata": {},
     "output_type": "execute_result"
    },
    {
     "data": {
      "image/png": "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\n",
      "text/plain": [
       "<Figure size 720x432 with 1 Axes>"
      ]
     },
     "metadata": {
      "needs_background": "light"
     },
     "output_type": "display_data"
    }
   ],
   "source": [
    "first_1000 = table[0:999]\n",
    "plt.scatter(first_1000['Time'], first_1000['Data'])\n"
   ]
  },
  {
   "cell_type": "code",
<<<<<<< HEAD
   "execution_count": 47,
=======
   "execution_count": 14,
>>>>>>> abd6b6f2af83d85fec40103d3d8d39ff1d0ae728
   "metadata": {},
   "outputs": [
    {
     "data": {
      "text/plain": [
<<<<<<< HEAD
       "<matplotlib.collections.PathCollection at 0x7f7c80821410>"
      ]
     },
     "execution_count": 47,
=======
       "<matplotlib.collections.PathCollection at 0x7f7c7f39db10>"
      ]
     },
     "execution_count": 14,
>>>>>>> abd6b6f2af83d85fec40103d3d8d39ff1d0ae728
     "metadata": {},
     "output_type": "execute_result"
    },
    {
     "data": {
      "image/png": "iVBORw0KGgoAAAANSUhEUgAAAmAAAAFlCAYAAABMTlT+AAAABHNCSVQICAgIfAhkiAAAAAlwSFlzAAALEgAACxIB0t1+/AAAADh0RVh0U29mdHdhcmUAbWF0cGxvdGxpYiB2ZXJzaW9uMy4xLjMsIGh0dHA6Ly9tYXRwbG90bGliLm9yZy+AADFEAAAgAElEQVR4nO3df5SW5X3n8c8XCFopbkPCsGaUktI5mmxAcOeILGctaTpZxGwd09XoYo/bkwPrHtMjmU02uMypdRcabe3EbrfbrkRXe2SNWpOJXSjNHLckDQWSQX4M/khHUksYXYaWtBBSJcB3/5ibdBifee7r+XH/fN6vczgz8zzXPXMxMvN8vK7v/b3M3QUAAID0TMl6AgAAAK2GAAYAAJAyAhgAAEDKCGAAAAApI4ABAACkjAAGAACQsmlZT6AW733ve33evHlZTwMAACDWnj17/sbdZ1d6rlABbN68eRocHMx6GgAAALHM7K8ne44tSAAAgJQRwAAAAFJGAAMAAEgZAQwAACBlBDAAAICUEcAAAABSRgADAABIGQEMAAAgZQQwAACAlBHAAAAAUhYbwMzsMTMbNbOD4x67xcxeMrNzZtZZ5doVZvYdM3vNzNaNe3yWmQ2Y2XD09t2N/1UAAACKIeQsyMcl/XdJfzjusYOSPi7pf052kZlNlfR7krokHZH0bTN73t1flrRO0gvu/kAUzNZJ+lxdf4MmWrVpp3YcOh40tqNthgZ6lic7IQAAUJNaXsuXzZ+lzauXJjyjymIDmLt/w8zmTXjsFUkys2qXXivpNXf/bjT2S5JukvRy9HZ5NO4JSduVcQCr5T+YJA2PntK8dVsueOyO6+ZqQ/eCZk8NAABU0Ns/pCd3Ha77+h2HjmvVpp2ZhLCQFbB6tUv63riPj0haEr0/x93flCR3f9PM2hKcR5Bawtdkntx1+Mf/EAhjAAA0X6Oha6JmvP7XI8kAVml5zGv+JGZrJK2RpLlz5zY6p9ScD2PTppgeuuVqdS9uz3pKAAAUUv/eEfU8vU/nsp5IEyUZwI5IumLcx5dLeiN6/6iZXRatfl0maXSyT+Luj0h6RJI6OztrDnBZO3POtfbpfVr79L5M95oBACiaZq925UmSbSi+LanDzN5vZtMl3Sbp+ei55yXdGb1/p6SvJjiPIMvmz0r8a+w4dFzz1m3Rqk07E/9aAAAUVW//kOat25JK+Erj9b8Sc6++qGRmT2msYP69ko5Kuk/ScUm/K2m2pL+TtM/d/5WZvU/SF919ZXTtSkkPS5oq6TF33xg9/h5Jz0iaK+mwpFvcPXYTtrOz0wcHB+v4a4aptRC/UayIAQDwj9Je8Ur6ddjM9rh7xXZdsQEsT5IOYHG6+rZrePRU0z8vBfsAgFbWv3dEa5/e1/TPm3UdNgEsIc1M6pdeNFUH7l/RlM8FAEBRLNk4oKMnTzflc+VtQYMAloJmhTG2JQEAraBZr5t5C13jEcBS1oxasoc/sYjWFQCA0mnGdmNRFisIYBlp9B9ZUf6BAQAQotEFijyvdlVCAMtYI0GM2jAAQBksvG+bTrx9tq5rixa8ziOA5UQjQYwtSQBAETXy2lfU4HUeASxn6i08ZEsSAFAk9W45luX1jgCWU/Xcejtn5nTtXt+V0IwAAGiOel7jylZ2Uy2AJXkUEWLsXt+lhz+xqKZrjp48rfev26L+vSMJzQoAgMZctX5rzeHrjuvmlip8xWEFLCfq+T+Fou+NAwDK52fv3aIzNUSLMu/ssAJWALvXd+mO6+bWdM2Tuw5zsDcAIBf6945o3rrawtcd180tbfiKwwpYDl21fqveOhv+36WjbYYGepYnNyEAAKqo9eayi6eaXt24MsEZ5QMrYAXz6saVmjNzevD44dFT6urbntyEAACYRK3ha87M6S0RvuIQwHJq9/ouLZs/K3j88OgpLdk4kOCMAAC40KpNO2sKX8vmz2rZLceJCGA5tnn10prukjx68rQW3rctwRkBADCmq297TT2+Hv7EolL09moWAljOdS9u1+sP3KhLL5oaNP7E22cJYQCARHX1bdfw6KmgsdNMev2BGznNZQICWEEcuH9FcF0YIQwAkJRawtfFU02vff7GhGdUTASwAtm9vksdbTOCxhLCAADNVkv4uvSiqRTbV0EAK5iBnuU1hTAK8wEAzbBq086awlcrdbWvBwGsgAZ6lgffIXn05GlaVAAAGtLbPxRccD9n5nTCVwACWEFtXr00uHM+fcIAAPWqpdVER9sM2kwEIoAV2IbuBTWFMI4tAgDUYtWmncErX5zKUhsCWMHVEsJ2HDqu3v6hhGcEACiDWrYdCV+1I4CVQC0h7MldhwlhAICqajleiPBVHwJYSWzoXhBcmP/krsPq3zuS8IwAAEXUv3ckOHzNmTmd8FUnAliJbF69NLhFxdqn9yU8GwBAEX068PVhzszpFNw3gABWMrX0CaNRKwBgvIX3bZMHjONux8YRwEpooGd50LFFNGoFAJy3ZOOATrx9NnYc247NERvAzOwxMxs1s4PjHptlZgNmNhy9fXeF6640s33j/pwws7XRc79uZiPjnuOsgibbvb4r6ABvGrUCAFZt2qmjJ0/Hjrv0oqmsfDVJyArY45ImtrRdJ+kFd++Q9EL08QXc/TvuvsjdF0n655J+KOkr44Z84fzz7r61rtmjqgP3rwgKYTRqBYDWFdpuguOFmis2gLn7NyRN/C9zk6QnovefkNQd82k+IumQu/91zTNEQw7cv0IWMI5GrQDQemq545Hw1Vz11oDNcfc3JSl62xYz/jZJT0147FNmdiDa4nzHFiaa5wufWBQ0bseh47SnAIAWEnrH48OBryMIl3gRvplNl/SLkp4d9/DvS5ovaZGkNyX9dpXr15jZoJkNHjt2LNG5llX34vbgRq20pwCA1rBk40DQHY93XDdX3YvbE59Pq6k3gB01s8skKXo7WmXsDZJedPej5x9w96Puftbdz0naJOnayS5290fcvdPdO2fPnl3ndFFLt3zujASAcgstul82f5Y2dC9IYUatp94A9rykO6P375T01Spjb9eE7cfz4S1ys6SDQuJCu+UfPXmaejAAKKn+vSNBRfdzZk7X5tVLU5hRawppQ/GUpJ2SrjSzI2b2SUkPSOoys2FJXdHHMrP3mdnWcddeEj3/5Qmf9jfNbMjMDkj6sKRPN+Vvg1ih3fKpBwOAcgopNaHdRPLMPWQHOB86Ozt9cHAw62mUwpKNA0HLz68/cGMKswEApOGq9Vv11tn4131+9zeHme1x985Kz9EJv0XtXt8V1J7iqvW0aAOAMliycSAofHHHYzoIYC0spD3FW2edonwAKLhaiu654zEdBLAW1r24Pbgov7d/KIUZAQCajaL7fCKAtbjNq5cGHdwd2ikZAJAvn3l2f+yYi6caRfcpI4BBu9d36eKp8RVhbEUCQLGs2rRTZ87F1329unFlCrPBeAQwSAr74aM/GAAUR+jWI0X32SCA4cdCfgjpDwYAxRByziNF99khgOHHQovyOS8SAPJt4X3bYs95nCJRdJ8hAhgusHn1Uk0JaBBGPRgA5NOSjQM68fbZ2HF9bD1migCGd+i7Nf6HktYUAJA/vf1D9PsqCAIY3iF0K5LWFACQLyG/l+n3lQ8EMFQU2h+MrUgAyIeQ38ccsp0fBDBMKuS8SFpTAED2Qo8aOnD/ihRmgxAEMFQVcl4krSkAIDv0+yomAhiqCq0H66E1BQBkIuSoIYru84cAhlghrSnOSWxFAkDKQo8aoug+fwhgCBLSmmLHoeO0pgCAlLD1WGwEMASppTUF9WAAkLyeZzhqqMgIYAi2efVSTQtok089GAAka9WmnYrbeeSooXwjgKEmD91ydeyYcxJbkQCQkNCtR44ayjcCGGpCl3wAyBZ3PZYDAQw127x6qTraZsSOo0s+ADRXyF2PHDVUDAQw1GWgZ3lsPRgHdgNA84RuPXLUUDEQwFC3kHowtiIBoDlCth7vuG5uCjNBMxDAULfQerCuvu3JTwYASqy3fyh263GKpA3dC9KZEBpGAENDQrrkD4+eojcYADQgZDeBux6LhQCGhoV0yV9LbzAAqEvILgJ3PRYPAQwNC92K5KxIAKhN/94RDY+eqjqGhqvFFBvAzOwxMxs1s4PjHptlZgNmNhy9ffck175uZkNmts/MBmu9HsURshW549BxtiIBoAYhxw2x9VhMIStgj0taMeGxdZJecPcOSS9EH0/mw+6+yN0767weBRGyFckxRQAQJuS4IbYeiys2gLn7NyRNbDxyk6QnovefkNRd49dt9HrkUPfi9tgGrRxTBADxQnt+sfVYXPXWgM1x9zclKXrbNsk4l/Q1M9tjZmvquF5mtsbMBs1s8NixY3VOF2kZ6FkeO4beYABQXUjPr4fZeiy0pIvwl7n7NZJukHS3mV1f6ydw90fcvdPdO2fPnt38GaLpQhoB0hsMACoL6fnV0TaDrceCqzeAHTWzyyQpejtaaZC7vxG9HZX0FUnX1nI9imlD94LYY4roDQYAlYXsEoTsNiDf6g1gz0u6M3r/TklfnTjAzGaY2czz70v6qKSDodej2EKOKaI3GABcKGR3gOOGyiGkDcVTknZKutLMjpjZJyU9IKnLzIYldUUfy8zeZ2Zbo0vnSPqmme2X9C1JW9x9W/RcxetRHvQGA4Da9PYPBfX84rihcjD3mHtcc6Szs9MHBwfjByI3fubeLbG3UT/8iUXUMgBoaf17R4J2Bfh9WSxmtmdCG64foxM+EhXSG+yzz7IVCaC1hdz1SM+vciGAIVEhvcF+dE4U5ANoWSF3PUr0/CobAhgSF3K3DgX5AFpVyF2P9PwqHwIYUhFy1w4F+QBaTcjvPbYey4kAhlSE9AbjsG4ArSTkuKEpYuuxrAhgSE1IbzAK8gG0is89dyB2TB9bj6VFAENqKMgHgDH9e0f09plzVcew9VhuBDCkioJ8AJB6non/PcfWY7kRwJC6kIL83v6hFGYCAOlbtWlnbINqjhsqPwIYUhdSkB9yWzYAFE1o4T3HDZUfAQyZCCnIX7JxIIWZAEB6KLzHeQQwZCKkIP/oydNsRQIojZDC+462GRTetwgCGDITUpDPViSAsggpvA/5vYhyIIAhUyGFpl1925OfCAAkqLd/iMJ7XIAAhkxt6F6gOTOnVx0zPHqK3mAACi1uNZ/C+9ZDAEPmdq/vih3TQ28wAAUVct4jhfethwCGXIhbej8neoMBKJ6QthMU3rcmAhhyYUP3AsW0BqMgH0DhhLSdoPC+NRHAkBt9t8YvwYcs5QNAHoS0naDwvnURwJAb3YvbddG06v8kdxw6TkE+gEIIaTtB4X3rIoAhVx78pYWxYz77LAX5APKNthOIQwBDrnQvbtey+bOqjvnRObEKBiDXaDuBOAQw5M7m1Utjx9CWAkBe0XYCIQhgyCXaUgAoItpOIBQBDLm0oXuBpsX0paAtBYC8oe0EQhHAkFsP3XJ17BhWwQDkBW0nUAsCGHIrpC0Fq2AA8uIzz+6PHUPhPc4jgCHXQtpSdPVtT34iAFBFb/+QzsT0nWD1C+PFBjAze8zMRs3s4LjHZpnZgJkNR2/fXeG6K8zsz8zsFTN7yczuGffcr5vZiJnti/6sbN5fCWUS0pZiePQUbSkAZIq2E6hVyArY45JWTHhsnaQX3L1D0gvRxxOdkfQf3f0Dkq6TdLeZfXDc819w90XRn621Tx2tIqQtBc1ZAWQlpBaVthOYKDaAufs3JE28p/YmSU9E7z8hqbvCdW+6+4vR+yclvSKJ+25Rl7ile5qzAshK3OrXu6aIthN4h3prwOa4+5vSWNCS1FZtsJnNk7RY0u5xD3/KzA5EW5zv2MIcd+0aMxs0s8Fjx47VOV0U3YbuBYrpSqG1NGcFkLIlGwdix/zWLax+4Z0SL8I3s5+U9Jykte5+Inr49yXNl7RI0puSfnuy6939EXfvdPfO2bNnJz1d5FjfrfG/xGhLASAtvf1DOnrydNUxy+bPYvULFdUbwI6a2WWSFL0drTTIzN6lsfC12d2/fP5xdz/q7mfd/ZykTZKurXMeaCG0pQCQJyG/b0JqWNGa6g1gz0u6M3r/TklfnTjAzEzSo5Jecfe+Cc9dNu7DmyUdFBAgpC1FyDlsANCIkN8ztJ1ANSFtKJ6StFPSlWZ2xMw+KekBSV1mNiypK/pYZvY+Mzt/R+MySb8s6ecrtJv4TTMbMrMDkj4s6dPN/WuhrLoXt6ujbUbVMTsOHacgH0BiQs57nDNzOm0nUJW5V28clyednZ0+ODiY9TSQA/PWban6/LumSMO/cWNKswHQSq7s/ZPYI4def4DfP5DMbI+7d1Z6jk74KCTaUgDIAuc9olkIYCikkKV9mrMCaLbPPXcgdgxbjwhBAENhsQoGIE2sfqGZCGAorA3dCzQtpjsrzVkBNEvPM9V/n3DeI2pBAEOhPXTL1bFjaM4KoFG9/UM6F3PPGuc9ohYEMBQazVkBpIHzHtFsBDAUHs1ZASQpZBWd8x5RKwIYCo/mrACSFLf61dE2g9Uv1IwAhlIY6FkeO4aCfAC16urbHjsm5PcPMBEBDKURcvs3BfkAQvXvHdHw6KmqY2g7gXoRwFAaIW0pKMgHEIqmq0gSAQylQlsKAM1A01UkjQCGUgkpyGcVDEAcVr+QNAIYSiekIJa2FAAmE7L69TBNV9EgAhhKKW5rgLYUACYTd+QQTVfRDAQwlFLI1sBnn6UtBYALhRw5RNNVNAMBDKUVtwr2o3NiFQzABThyCGkhgKG0WAUDUAuOHEKaCGAoNVbBAITiyCGkiQCGUgtpztrDEUVAy+PIIaSNAIbSi2vOek40ZwVaGUcOIQsEMJRe9+J2XTSt+j91mrMCrYumq8gCAQwt4cFfWhg7hlUwoPVw5BCyQgBDS2AVDEAlrH4hKwQwtIyQVTCOKAJaB0cOIUsEMLSM7sXtWjZ/VtUxHFEEtA6OHEKWCGBoKZtXL40dQ3NWoPw4cghZiw1gZvaYmY2a2cFxj80yswEzG47evnuSa1eY2XfM7DUzW1fr9UASaM4KgCOHkLWQFbDHJa2Y8Ng6SS+4e4ekF6KPL2BmUyX9nqQbJH1Q0u1m9sHQ64GkcEQR0NpCaj1Z/ULSYgOYu39D0vEJD98k6Yno/SckdVe49FpJr7n7d939tKQvRdeFXg8khlUwoDX17x3RjkMTX9IuxJFDSEO9NWBz3P1NSYretlUY0y7pe+M+PhI9Fno9kBiOKAJa02ee3R87hiOHkIYki/ArvbrFlDxW+CRma8xs0MwGjx071oRpAWM4oghoLb39QzoTU3lP01Wkpd4AdtTMLpOk6O1ohTFHJF0x7uPLJb1Rw/WSJHd/xN073b1z9uzZdU4XeCeaswKtJe7neYpouor01BvAnpd0Z/T+nZK+WmHMtyV1mNn7zWy6pNui60KvBxLHEUVAawj5Oe6j6SpSFNKG4ilJOyVdaWZHzOyTkh6Q1GVmw5K6oo9lZu8zs62S5O5nJH1K0p9KekXSM+7+UvRpK14PpI1VMKA10HYCeTMtboC73z7JUx+pMPYNSSvHfbxV0tYK4/620vVAFh78pYVaG1Nw39s/xNYEUFAhq1+0nUDa6ISPlhdyRBGrYEBxxf38Lps/i9UvpI4ABijsiKKuvu3JTwRAU4X83Ib8/APNRgADInG3nw+PnqI5K1Ag/XtHNDx6quoY2k4gKwQwIMIRRUC5fO65A7FjqO1EVghgwDgcUQSUQ//eEb195lzVMax+IUsEMGCcDd0LFHNCEUcUAQXA6hfyjgAGTNB3a/Xb0c9JWrVpZzqTAVCzkNWvh2m6iowRwIAJQpqz7jh0nK1IIKd6nqm+Sk3TVeQBAQyoIOSIIgrygfzp7R9SzHnbNF1FLhDAgApCmrNSkA/kD0cOoSgIYMAkQpozsgoG5AdHDqFICGBAFbSlAIojbvWro20Gq1/IDQIYUMWG7gWaFtOXgrYUQPZCjhwa6Fme+DyAUAQwIMZDt1xd9flzCtv6AJAMjhxCERHAgBghbSnitj4AJIemqygiAhgQIKQtBatgQPo4cghFRQADArAKBuQTq18oKgIYEChkFYwjioD0cOQQiowABgQKac7KEUVAejhyCEVGAANqQHNWIB84cghFRwADakRzViB7HDmEoiOAATUKKehlFQxIDkcOoQwIYEAdWAUDssORQygDAhhQh5AjitZyRBHQdBw5hLIggAF1ijuiSKI5K9BMHDmEMiGAAXWiOSuQLpquokwIYEADaM4KpKO3f4gjh1AqBDCgAd2L29XRNqPqGJqzAo3p3zsStJrM6heKpKEAZmb3mNlBM3vJzNZWeP6zZrYv+nPQzM6a2azoudfNbCh6brCReQBZCin4pS0FUL+QrUeOHELR1B3AzOxDklZLulbS1ZI+ZmYd48e4+2+5+yJ3XyTpXklfd/fj44Z8OHq+s955AHlAWwogGSHnPdJ0FUXUyArYByTtcvcfuvsZSV+XdHOV8bdLeqqBrwfkVsjWRw9tKYCafebZ/bFjaLqKImokgB2UdL2ZvcfMLpG0UtIVlQZGz6+Q9Ny4h13S18xsj5mtmeyLmNkaMxs0s8Fjx441MF0gWXGrYOdEWwqgFr39QzoTc+DjsvmzWP1CIdUdwNz9FUkPShqQtE3SfklnJhn+ryXtmLD9uMzdr5F0g6S7zez6Sb7OI+7e6e6ds2fPrne6QOJCmrPSlgIIF/fzMkXS5tVL05kM0GQNFeG7+6Pufo27Xy/puKThSYbepgnbj+7+RvR2VNJXNFZLBhQazVmB5gj5Oemj8B4F1uhdkG3R27mSPq4KNV5m9k8k/Zykr457bIaZzTz/vqSPamxLEyg0mrMCzRH3c0LhPYqu0T5gz5nZy5L+WNLd7v59M7vLzO4aN+ZmSV9z9/HnR8yR9E0z2y/pW5K2uPu2BucC5EJIc9aQ8+yAVhXy80HhPYpuWiMXu/u/rPDYH0z4+HFJj0947Lsaa10BlE734nY9O3hYOw4dn3TM8Ogp9e8d4f/ggQlCznuk8B5lQCd8IAEhhcE0ZwXeKaTpKoX3KAMCGJCQkOasFOQD/yik6SrnPaIsCGBAQjZ0L1BMVwo9ueswHfKBSM8z8avCnPeIsiCAAQnquzW+UJitSGBsNTim5yrnPaJUCGBAgkLaUnBOJEDbCbQeAhiQsJC2FGs5JxItjLYTaEUEMCBh3YvbtWz+rNhxFOSjFYW0nehom8HqF0qHAAakYPPqpZwTCVQQ0nZioGd58hMBUkYAA1ISck7kqk07U5gJkA+0nUArI4ABKele3K6OthlVx+w4dJyCfLQM2k6glRHAgBSFbKXQlgKtgLYTaHUEMCBlIR3yWQVD2dF2Aq2OAAakLGRLhbYUKDPaTgAEMCATIYXFFOSjjGg7AYwhgAEZ2NC9ILYtBQX5KKOQwnvaTqAVEMCAjIS0paAgH2USUnhP2wm0CgIYkJGQthQU5KNMQpoN03YCrYIABmQoZKuFgnyUQUjhPW0n0EoIYEDGQrZcOCcSRUbhPfBOBDAgYyEF+ZwTiSL7zLP7Y8dQeI9WQwADciCkID9kCwfIm97+IZ2Jqbyn8B6tiAAG5EBIQf7w6CkK8lE4FN4DlRHAgJygIB9ls2TjQOwYCu/RqghgQI7QIR9lsWrTTh09ebrqGM57RCsjgAE5sqF7gWLq8emQj9zr3zuiHYeOx47jvEe0MgIYkDN9t8a/KPWwFYkcC7nrcdn8Wax+oaURwICcCSnIPyd6gyGfQu56nDNzujavXprSjIB8IoABORRSkE9vMORRyL/L3eu7UpgJkG8NBTAzu8fMDprZS2a2tsLzy83s781sX/Tn18Y9t8LMvmNmr5nZukbmAZQRBfkompBedfT8AsbUHcDM7EOSVku6VtLVkj5mZh0Vhv65uy+K/vyX6Nqpkn5P0g2SPijpdjP7YL1zAcoopEM+BfnIi5DjhqaInl/AeY2sgH1A0i53/6G7n5H0dUk3B157raTX3P277n5a0pck3dTAXIBSCumQT0E+8qDnmfh/h330/AJ+rJEAdlDS9Wb2HjO7RNJKSVdUGLfUzPab2Z+Y2T+LHmuX9L1xY45Ej72Dma0xs0EzGzx27FgD0wWKp3txu5bNn1V1zDmxFYlsrdq0UzF199z1CExQdwBz91ckPShpQNI2SfslnZkw7EVJP+3uV0v6XUn90eOV9lUq/vi6+yPu3ununbNnz653ukBhhdwtxlYkshLa84u7HoELNVSE7+6Puvs17n69pOOShic8f8LdfxC9v1XSu8zsvRpb8Rq/Wna5pDcamQtQZiGFyxxThCyE9PziuCHgnRq9C7ItejtX0sclPTXh+X9qZha9f2309f5W0rcldZjZ+81suqTbJD3fyFyAMgspyJfC7kIDmiWk51dH2wy2HoEKGu0D9pyZvSzpjyXd7e7fN7O7zOyu6Pl/I+mgme2X9N8k3eZjzkj6lKQ/lfSKpGfc/aUG5wKUWkhB/vDoKbYikZqQnl8hPe2AVmTuMZWTOdLZ2emDg4NZTwPIzKpNO4PqbV5/4MYUZoNW1tW3PbbtxB3XzaXtBFqame1x985Kz9EJHyiQzauXxh5TJHFXJJJFzy+gcQQwoGAGepYrrhyMuyKRpE8H3PBBzy+gOgIYUEB9t8a/uHFXJJLQ1be9cs+gcej5BcQjgAEF1L24na1IpC5k61Gi5xcQggAGFFTI3WVsRaKZQrYe6fkFhCGAAQVGg1akJWTrkZ5fQDgCGFBgG7oXaM7M6bHj2IpEI0K3Hun5BYQjgAEFt3t9V+wYtiLRCLYegeYjgAElwFYkkrJk4wBbj0ACCGBACYRuRXJWJGrR2z+koydPx45j6xGoHQEMKImQrUjOikQtQs56ZOsRqA8BDCgRtiLRLEs2DsSOYesRqB8BDCiR0K3IkBdXtK5Vm3ay9QgkjAAGlMzu9V2KOSpSR0+epjUFKurtH9KOQ8djx7H1CDSGAAaU0BcCXhxpTYGJ+veOBNV9cdYj0DgCGFBCoWdF9lAPhnE+8+z+oHGc9Qg0jgAGlNRAz/LYrchzoks+xqzatFNnzsV1/GLrEWgWAhhQYmxFIkT/3pGgui+2HoHmITwDOOsAAA0OSURBVIABJda9uF3L5s+KHUdritYWctRQR9sMth6BJiKAASW3efVSTZsStxlJa4pWFXLU0BTRcgJoNgIY0AIeuuXq2DG0pmg9of2++qj7ApqOAAa0gNCtSOrBWgd1X0C2CGBAi9i8emlQl3zqwVpDSN3XnJnTqfsCEkIAA1pISJd8SVp437bE54LshNR9SWEHvAOoDwEMaDEhrSlOvH2WEFZSXX3bg+q+6PcFJIsABrSY0HqwE2+f5c7Iklm1aaeGR0/FjqPuC0geAQxoQaH1YNwZWR6hRffUfQHpaCiAmdk9ZnbQzF4ys7UVnl9lZgeiP39hZlePe+51Mxsys31mNtjIPADUbvf6Ll160dTYcdwZWQ4hRfcSdV9AWuoOYGb2IUmrJV0r6WpJHzOzjgnD/krSz7n7Qkn/VdIjE57/sLsvcvfOeucBoH4H7l8RVJTPnZHFFlp0T90XkJ5GVsA+IGmXu//Q3c9I+rqkm8cPcPe/cPfvRx/uknR5A18PQAJCivIl7owsqtCie+q+gHQ1EsAOSrrezN5jZpdIWinpiirjPynpT8Z97JK+ZmZ7zGxNA/MA0IDuxe2647q5seMoyi+e0KJ7znkE0ld3AHP3VyQ9KGlA0jZJ+yWdqTTWzD6ssQD2uXEPL3P3ayTdIOluM7t+kmvXmNmgmQ0eO3as3ukCqGJD94KgOyMpyi+O3v6h4KJ7znkE0tdQEb67P+ru17j79ZKOSxqeOMbMFkr6oqSb3P1vx137RvR2VNJXNFZLVulrPOLune7eOXv27EamC6CK0Dsjdxw6rt7+oRRmhHr17x3Rk7sOB42l6B7IRqN3QbZFb+dK+rikpyY8P1fSlyX9srv/5bjHZ5jZzPPvS/qoxrY0AWQotFP+k7sOc2dkjoXe8UjRPZCdRvuAPWdmL0v6Y0l3u/v3zewuM7srev7XJL1H0v+Y0G5ijqRvmtl+Sd+StMXdqfAFciC0KJ87I/Np4X3bgu54pOgeyJa5h/yo5kNnZ6cPDtIyDEhab/9Q0BbWNJNe+/yNKcwIIRbet00n3j4bO66jbQZ1X0AKzGzPZK226IQP4B1Ci/LPuHTV+q0pzAhxlmwcCApfFN0D+UAAA1BRaFH+W2edHmEZW7JxIKjX16UXTaXoHsgJAhiASYUeV3Ti7bOEsIwsvG9bUPiSxk4+AJAPBDAAVR24f4Uunhp/byQhLH2hNV8SdzwCeUMAAxDr1Y0rNS2gPwXd8tNTS/i647q53PEI5AwBDECQ0Lsdj548ra6+7clOpsWFFtxLY+FrQ/eChGcEoFYEMADBQrexhkdPsRKWkNCCe4nwBeQZAQxAsNCDu6WxlTBqwpqrloJ7wheQbwQwADXZ0L0gOISdePssfcKapNaaL8IXkG8EMAA1qyWEvXXW9bP3bkl4RuVG+ALKhwAGoC6h3fKlsY7589Zt4QDvOly1fivhCyghAhiAum1evVQdbTOCx699ep96+4cSnFG5/Oy9W/TW2bDzepfNn0X4AgqEAAagIQM9y4NXwiTpyV2HtWrTzgRnVHz9e0c0b90WnQnLXlo2f5Y2r16a7KQANBUBDEDDNq9eWlOn9R2HjtOmYhKrNu3U2qf3BY+/47q5hC+ggAhgAJqie3G7Xn/gxqCO+dJYmwrukLzQko0D2nHoePB4ar6A4iKAAWiq1z4fHsLeOusU50euWr81uMeXRPgCio4ABqDpXvv8jUEHeJ+39ul9LVsXdr7eK7TYXho7kYDwBRQbAQxAIl7duFKXXjQ1ePyOQ8dbrnN+V9/2muq9ppn0+gM3crA2UAIEMACJOXD/Cs2ZOT14/Im3z2reui2lb1XR2z+keeu2aHj0VPA1F0+14APRAeQfAQxAonav76qpTYU01qqirKthC+/bpid3Ha7pmjkzp+vVjSsTmhGALBDAACSu1jYVUvlWw86veoV2tT9v2fxZ2r2+K6FZAciKuYcXfmats7PTBwcHs54GgAZctX5rTQXnkmSSvvCJRYWsferfO1JTndd4Dxf07wxgjJntcffOis8RwACkbcnGgZpaLpw3xaS+W4sTSur9e1481dhyBEqgWgBjCxJA6nav79Id182t+bpzPtay4mfuzXfvsK6+7Zq3bktd4WvZ/FmEL6AFsAIGIFML79tWc13UeHlpSNq/d0Q9T+/TuTqvv/SiqTpw/4qmzglAttiCBJBrvf1DNd8ZOFFH2wwN9CxvzoRqsGrTzpqOD6okLyESQHMRwAAUQqOrYectmz8r0QOqmxEYJVa9gLIjgAEojGaFm/EaXWHK45wA5F9iAczM7pG0WmN3iW9y94cnPG+SfkfSSkk/lPTv3P3F6LkV0XNTJX3R3R+I+3oEMKB1JBF6Jpo2xfTQLVf/+K7Krr7tNXWnr0fSq3MA8iORAGZmH5L0JUnXSjotaZuk/+Duw+PGrJT0qxoLYEsk/Y67LzGzqZL+UlKXpCOSvi3pdnd/udrXJIABracZNVZ5kFWNGoDsVAtg0xr4vB+QtMvdfxh9ka9LulnSb44bc5OkP/SxlLfLzH7KzC6TNE/Sa+7+3ejaL0VjqwYwAK3n/GpRUYMYwQtAJY0EsIOSNprZeyT9g8ZWuSYuT7VL+t64j49Ej1V6fEkDcwFQcueDWBpbk83AViOAauoOYO7+ipk9KGlA0g8k7Zd0ZsIwq3RplcffwczWSFojSXPn1t64EUC5bOhe8OPi9TRqtmoxsaYMACbTyAqY3P1RSY9Kkpn9hsZWssY7IumKcR9fLukNSdMnebzS13hE0iPSWA1YI/MFUC7nt/YabYLaKO5oBFCrhgKYmbW5+6iZzZX0cUkT19ufl/SpqMZriaS/d/c3zeyYpA4ze7+kEUm3Sfq3jcwFQOvqXtx+wapT0tuUBC4AjWoogEl6LqoB+5Gku939+2Z2lyS5+x9I2qqx2rDXNNaG4lei586Y2ack/anG2lA85u4vNTgXAJB04TblRKHF/BTPA0gSjVgBAAASUK0NxZS0JwMAANDqCGAAAAApI4ABAACkjAAGAACQMgIYAABAyghgAAAAKSOAAQAApIwABgAAkDICGAAAQMoIYAAAACkjgAEAAKSsUGdBmtkxSX+d9TxS9F5Jf5P1JAqO72Hj+B42hu9f4/geNo7vYWPq/f79tLvPrvREoQJYqzGzwckO8UQYvoeN43vYGL5/jeN72Di+h41J4vvHFiQAAEDKCGAAAAApI4Dl2yNZT6AE+B42ju9hY/j+NY7vYeP4Hjam6d8/asAAAABSxgoYAABAyghgOWRmV5jZn5nZK2b2kpndk/WcisbMLjazb5nZ/uh7eH/WcyoiM5tqZnvN7P9kPZciMrPXzWzIzPaZ2WDW8ykaM/spM/sjM3s1+n24NOs5FYmZXRn92zv/54SZrc16XkVjZp+OXkcOmtlTZnZxUz4vW5D5Y2aXSbrM3V80s5mS9kjqdveXM55aYZiZSZrh7j8ws3dJ+qake9x9V8ZTKxQz65HUKelSd/9Y1vMpGjN7XVKnu9N/qQ5m9oSkP3f3L5rZdEmXuPvfZT2vIjKzqZJGJC1x91bqp9kQM2vX2OvHB939H8zsGUlb3f3xRj83K2A55O5vuvuL0fsnJb0iqT3bWRWLj/lB9OG7oj/830YNzOxySTdK+mLWc0HrMbNLJV0v6VFJcvfThK+GfETSIcJXXaZJ+gkzmybpEklvNOOTEsByzszmSVosaXe2MymeaPtsn6RRSQPuzvewNg9L+k+SzmU9kQJzSV8zsz1mtibryRTMz0g6Jul/RdvgXzSzGVlPqsBuk/RU1pMoGncfkfSQpMOS3pT09+7+tWZ8bgJYjpnZT0p6TtJadz+R9XyKxt3PuvsiSZdLutbMPpT1nIrCzD4madTd92Q9l4Jb5u7XSLpB0t1mdn3WEyqQaZKukfT77r5Y0ilJ67KdUjFF27e/KOnZrOdSNGb2bkk3SXq/pPdJmmFmdzTjcxPAciqqW3pO0mZ3/3LW8ymyaNtiu6QVGU+lSJZJ+sWohulLkn7ezJ7MdkrF4+5vRG9HJX1F0rXZzqhQjkg6Mm7l+o80FshQuxskvejuR7OeSAH9gqS/cvdj7v4jSV+W9C+a8YkJYDkUFZA/KukVd+/Lej5FZGazzeynovd/QmM/RK9mO6vicPd73f1yd5+nsa2L/+vuTfm/vlZhZjOim2gUbZ19VNLBbGdVHO7+/yR9z8yujB76iCRuRKrP7WL7sV6HJV1nZpdEr80f0VhddsOmNeOToOmWSfplSUNRDZMk/Wd335rhnIrmMklPRHf+TJH0jLvTSgFpmiPpK2O/szVN0v92923ZTqlwflXS5mgL7buSfiXj+RSOmV0iqUvSv896LkXk7rvN7I8kvSjpjKS9alJXfNpQAAAApIwtSAAAgJQRwAAAAFJGAAMAAEgZAQwAACBlBDAAAICUEcAAAABSRgADAABIGQEMAAAgZf8faImqvYf31tEAAAAASUVORK5CYII=\n",
      "text/plain": [
       "<Figure size 720x432 with 1 Axes>"
      ]
     },
     "metadata": {
      "needs_background": "light"
     },
     "output_type": "display_data"
    }
   ],
   "source": [
    "start = 500; points = 2000\n",
    "analyze = table[start:start+points]\n",
    "plt.scatter(analyze['Time'], analyze['Data'])"
   ]
  },
  {
   "cell_type": "code",
<<<<<<< HEAD
   "execution_count": 48,
=======
   "execution_count": 16,
>>>>>>> abd6b6f2af83d85fec40103d3d8d39ff1d0ae728
   "metadata": {},
   "outputs": [
    {
     "data": {
      "text/html": [
       "<div>\n",
       "<style scoped>\n",
       "    .dataframe tbody tr th:only-of-type {\n",
       "        vertical-align: middle;\n",
       "    }\n",
       "\n",
       "    .dataframe tbody tr th {\n",
       "        vertical-align: top;\n",
       "    }\n",
       "\n",
       "    .dataframe thead th {\n",
       "        text-align: right;\n",
       "    }\n",
       "</style>\n",
       "<table border=\"1\" class=\"dataframe\">\n",
       "  <thead>\n",
       "    <tr style=\"text-align: right;\">\n",
       "      <th></th>\n",
       "      <th>Time</th>\n",
       "      <th>Data</th>\n",
       "      <th>Background</th>\n",
       "    </tr>\n",
       "  </thead>\n",
       "  <tbody>\n",
       "    <tr>\n",
       "      <th>0</th>\n",
       "      <td>0.000000</td>\n",
       "      <td>10.000000</td>\n",
<<<<<<< HEAD
       "      <td>12.429309</td>\n",
=======
       "      <td>8.305002</td>\n",
>>>>>>> abd6b6f2af83d85fec40103d3d8d39ff1d0ae728
       "    </tr>\n",
       "    <tr>\n",
       "      <th>10</th>\n",
       "      <td>0.031416</td>\n",
       "      <td>10.031411</td>\n",
<<<<<<< HEAD
       "      <td>9.268117</td>\n",
=======
       "      <td>11.825939</td>\n",
>>>>>>> abd6b6f2af83d85fec40103d3d8d39ff1d0ae728
       "    </tr>\n",
       "    <tr>\n",
       "      <th>20</th>\n",
       "      <td>0.062832</td>\n",
       "      <td>10.062791</td>\n",
<<<<<<< HEAD
       "      <td>8.072988</td>\n",
=======
       "      <td>9.769945</td>\n",
>>>>>>> abd6b6f2af83d85fec40103d3d8d39ff1d0ae728
       "    </tr>\n",
       "    <tr>\n",
       "      <th>30</th>\n",
       "      <td>0.094249</td>\n",
       "      <td>10.094109</td>\n",
<<<<<<< HEAD
       "      <td>13.901041</td>\n",
=======
       "      <td>5.106929</td>\n",
>>>>>>> abd6b6f2af83d85fec40103d3d8d39ff1d0ae728
       "    </tr>\n",
       "    <tr>\n",
       "      <th>40</th>\n",
       "      <td>0.125665</td>\n",
       "      <td>10.125334</td>\n",
<<<<<<< HEAD
       "      <td>5.296452</td>\n",
=======
       "      <td>10.074128</td>\n",
>>>>>>> abd6b6f2af83d85fec40103d3d8d39ff1d0ae728
       "    </tr>\n",
       "    <tr>\n",
       "      <th>...</th>\n",
       "      <td>...</td>\n",
       "      <td>...</td>\n",
       "      <td>...</td>\n",
       "    </tr>\n",
       "    <tr>\n",
       "      <th>99950</th>\n",
       "      <td>314.005326</td>\n",
       "      <td>9.846668</td>\n",
<<<<<<< HEAD
       "      <td>11.855706</td>\n",
=======
       "      <td>8.031843</td>\n",
>>>>>>> abd6b6f2af83d85fec40103d3d8d39ff1d0ae728
       "    </tr>\n",
       "    <tr>\n",
       "      <th>99960</th>\n",
       "      <td>314.036742</td>\n",
       "      <td>9.877783</td>\n",
<<<<<<< HEAD
       "      <td>10.913498</td>\n",
=======
       "      <td>10.018119</td>\n",
>>>>>>> abd6b6f2af83d85fec40103d3d8d39ff1d0ae728
       "    </tr>\n",
       "    <tr>\n",
       "      <th>99970</th>\n",
       "      <td>314.068158</td>\n",
       "      <td>9.909019</td>\n",
<<<<<<< HEAD
       "      <td>8.171865</td>\n",
=======
       "      <td>6.782475</td>\n",
>>>>>>> abd6b6f2af83d85fec40103d3d8d39ff1d0ae728
       "    </tr>\n",
       "    <tr>\n",
       "      <th>99980</th>\n",
       "      <td>314.099575</td>\n",
       "      <td>9.940345</td>\n",
<<<<<<< HEAD
       "      <td>9.631943</td>\n",
=======
       "      <td>10.019698</td>\n",
>>>>>>> abd6b6f2af83d85fec40103d3d8d39ff1d0ae728
       "    </tr>\n",
       "    <tr>\n",
       "      <th>99990</th>\n",
       "      <td>314.130991</td>\n",
       "      <td>9.971729</td>\n",
<<<<<<< HEAD
       "      <td>17.481445</td>\n",
=======
       "      <td>13.753276</td>\n",
>>>>>>> abd6b6f2af83d85fec40103d3d8d39ff1d0ae728
       "    </tr>\n",
       "  </tbody>\n",
       "</table>\n",
       "<p>10000 rows × 3 columns</p>\n",
       "</div>"
      ],
      "text/plain": [
       "             Time       Data  Background\n",
<<<<<<< HEAD
       "0        0.000000  10.000000   12.429309\n",
       "10       0.031416  10.031411    9.268117\n",
       "20       0.062832  10.062791    8.072988\n",
       "30       0.094249  10.094109   13.901041\n",
       "40       0.125665  10.125334    5.296452\n",
       "...           ...        ...         ...\n",
       "99950  314.005326   9.846668   11.855706\n",
       "99960  314.036742   9.877783   10.913498\n",
       "99970  314.068158   9.909019    8.171865\n",
       "99980  314.099575   9.940345    9.631943\n",
       "99990  314.130991   9.971729   17.481445\n",
=======
       "0        0.000000  10.000000    8.305002\n",
       "10       0.031416  10.031411   11.825939\n",
       "20       0.062832  10.062791    9.769945\n",
       "30       0.094249  10.094109    5.106929\n",
       "40       0.125665  10.125334   10.074128\n",
       "...           ...        ...         ...\n",
       "99950  314.005326   9.846668    8.031843\n",
       "99960  314.036742   9.877783   10.018119\n",
       "99970  314.068158   9.909019    6.782475\n",
       "99980  314.099575   9.940345   10.019698\n",
       "99990  314.130991   9.971729   13.753276\n",
>>>>>>> abd6b6f2af83d85fec40103d3d8d39ff1d0ae728
       "\n",
       "[10000 rows x 3 columns]"
      ]
     },
<<<<<<< HEAD
     "execution_count": 48,
=======
     "execution_count": 16,
>>>>>>> abd6b6f2af83d85fec40103d3d8d39ff1d0ae728
     "metadata": {},
     "output_type": "execute_result"
    },
    {
     "data": {
      "image/png": "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\n",
      "text/plain": [
       "<Figure size 720x432 with 1 Axes>"
      ]
     },
     "metadata": {
      "needs_background": "light"
     },
     "output_type": "display_data"
    }
   ],
   "source": [
    "analyze = table[table.index % 10 == 0]  # Selects every 3rd raw starting from 0\n",
    "plt.scatter(analyze['Time'], analyze['Data'])\n",
    "analyze"
   ]
  },
  {
   "cell_type": "markdown",
   "metadata": {},
   "source": [
    "## Problem 2)"
   ]
  },
  {
   "cell_type": "code",
<<<<<<< HEAD
   "execution_count": 49,
=======
   "execution_count": 39,
>>>>>>> abd6b6f2af83d85fec40103d3d8d39ff1d0ae728
   "metadata": {},
   "outputs": [
    {
     "data": {
      "text/plain": [
<<<<<<< HEAD
       "<matplotlib.colorbar.Colorbar at 0x7f7c7f523790>"
      ]
     },
     "execution_count": 49,
=======
       "<matplotlib.colorbar.Colorbar at 0x7f7c7b1d84d0>"
      ]
     },
     "execution_count": 39,
>>>>>>> abd6b6f2af83d85fec40103d3d8d39ff1d0ae728
     "metadata": {},
     "output_type": "execute_result"
    },
    {
     "data": {
      "image/png": "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\n",
      "text/plain": [
       "<Figure size 720x432 with 2 Axes>"
      ]
     },
     "metadata": {
      "needs_background": "light"
     },
     "output_type": "display_data"
    }
   ],
   "source": [
    "plt.hist2d(table['Time'], table['Data'], bins = (10, 20))\n",
    "plt.colorbar()"
   ]
  },
  {
   "cell_type": "markdown",
   "metadata": {},
   "source": [
    "The plot above is a density plot of both time on the x-axis, and signal strength on the y-axis. There are 10 time-bins and 20 positional bins being accounted for. The darker blue colors represent times and positions that did not recieve many data points in the set, whereas the yellow bins represent times that there was a lot of data collected. This can be interpretted as during the entire data collection period, most data was collected at the extremes of the periodic function, which makes sense because sinusoidal functions \"spend more time\" at the extremeties. "
   ]
  },
  {
   "cell_type": "markdown",
   "metadata": {},
   "source": [
    "## Problem 3) "
   ]
  },
  {
   "cell_type": "code",
<<<<<<< HEAD
   "execution_count": 50,
=======
   "execution_count": 40,
>>>>>>> abd6b6f2af83d85fec40103d3d8d39ff1d0ae728
   "metadata": {},
   "outputs": [
    {
     "data": {
      "text/html": [
       "<div>\n",
       "<style scoped>\n",
       "    .dataframe tbody tr th:only-of-type {\n",
       "        vertical-align: middle;\n",
       "    }\n",
       "\n",
       "    .dataframe tbody tr th {\n",
       "        vertical-align: top;\n",
       "    }\n",
       "\n",
       "    .dataframe thead th {\n",
       "        text-align: right;\n",
       "    }\n",
       "</style>\n",
       "<table border=\"1\" class=\"dataframe\">\n",
       "  <thead>\n",
       "    <tr style=\"text-align: right;\">\n",
       "      <th></th>\n",
       "      <th>Time</th>\n",
       "      <th>Data</th>\n",
       "      <th>Background</th>\n",
       "    </tr>\n",
       "  </thead>\n",
       "  <tbody>\n",
       "    <tr>\n",
       "      <th>0</th>\n",
       "      <td>0.000000</td>\n",
       "      <td>10.000000</td>\n",
<<<<<<< HEAD
       "      <td>12.429309</td>\n",
=======
       "      <td>8.305002</td>\n",
>>>>>>> abd6b6f2af83d85fec40103d3d8d39ff1d0ae728
       "    </tr>\n",
       "    <tr>\n",
       "      <th>1</th>\n",
       "      <td>0.003142</td>\n",
       "      <td>10.003142</td>\n",
<<<<<<< HEAD
       "      <td>12.255018</td>\n",
=======
       "      <td>8.128887</td>\n",
>>>>>>> abd6b6f2af83d85fec40103d3d8d39ff1d0ae728
       "    </tr>\n",
       "    <tr>\n",
       "      <th>2</th>\n",
       "      <td>0.006283</td>\n",
       "      <td>10.006283</td>\n",
<<<<<<< HEAD
       "      <td>12.852097</td>\n",
=======
       "      <td>7.701300</td>\n",
>>>>>>> abd6b6f2af83d85fec40103d3d8d39ff1d0ae728
       "    </tr>\n",
       "    <tr>\n",
       "      <th>3</th>\n",
       "      <td>0.009425</td>\n",
       "      <td>10.009425</td>\n",
<<<<<<< HEAD
       "      <td>9.652997</td>\n",
=======
       "      <td>8.357231</td>\n",
>>>>>>> abd6b6f2af83d85fec40103d3d8d39ff1d0ae728
       "    </tr>\n",
       "    <tr>\n",
       "      <th>4</th>\n",
       "      <td>0.012566</td>\n",
       "      <td>10.012566</td>\n",
<<<<<<< HEAD
       "      <td>10.128732</td>\n",
=======
       "      <td>5.175446</td>\n",
>>>>>>> abd6b6f2af83d85fec40103d3d8d39ff1d0ae728
       "    </tr>\n",
       "    <tr>\n",
       "      <th>...</th>\n",
       "      <td>...</td>\n",
       "      <td>...</td>\n",
       "      <td>...</td>\n",
       "    </tr>\n",
       "    <tr>\n",
       "      <th>99995</th>\n",
       "      <td>6.270619</td>\n",
       "      <td>9.987434</td>\n",
<<<<<<< HEAD
       "      <td>10.749934</td>\n",
=======
       "      <td>15.516096</td>\n",
>>>>>>> abd6b6f2af83d85fec40103d3d8d39ff1d0ae728
       "    </tr>\n",
       "    <tr>\n",
       "      <th>99996</th>\n",
       "      <td>6.273760</td>\n",
       "      <td>9.990575</td>\n",
<<<<<<< HEAD
       "      <td>10.354255</td>\n",
=======
       "      <td>10.267850</td>\n",
>>>>>>> abd6b6f2af83d85fec40103d3d8d39ff1d0ae728
       "    </tr>\n",
       "    <tr>\n",
       "      <th>99997</th>\n",
       "      <td>6.276902</td>\n",
       "      <td>9.993717</td>\n",
<<<<<<< HEAD
       "      <td>12.333876</td>\n",
=======
       "      <td>10.257526</td>\n",
>>>>>>> abd6b6f2af83d85fec40103d3d8d39ff1d0ae728
       "    </tr>\n",
       "    <tr>\n",
       "      <th>99998</th>\n",
       "      <td>6.280044</td>\n",
       "      <td>9.996858</td>\n",
<<<<<<< HEAD
       "      <td>3.774132</td>\n",
=======
       "      <td>16.103171</td>\n",
>>>>>>> abd6b6f2af83d85fec40103d3d8d39ff1d0ae728
       "    </tr>\n",
       "    <tr>\n",
       "      <th>99999</th>\n",
       "      <td>0.000000</td>\n",
       "      <td>10.000000</td>\n",
<<<<<<< HEAD
       "      <td>7.752138</td>\n",
=======
       "      <td>8.383862</td>\n",
>>>>>>> abd6b6f2af83d85fec40103d3d8d39ff1d0ae728
       "    </tr>\n",
       "  </tbody>\n",
       "</table>\n",
       "<p>100000 rows × 3 columns</p>\n",
       "</div>"
      ],
      "text/plain": [
       "           Time       Data  Background\n",
<<<<<<< HEAD
       "0      0.000000  10.000000   12.429309\n",
       "1      0.003142  10.003142   12.255018\n",
       "2      0.006283  10.006283   12.852097\n",
       "3      0.009425  10.009425    9.652997\n",
       "4      0.012566  10.012566   10.128732\n",
       "...         ...        ...         ...\n",
       "99995  6.270619   9.987434   10.749934\n",
       "99996  6.273760   9.990575   10.354255\n",
       "99997  6.276902   9.993717   12.333876\n",
       "99998  6.280044   9.996858    3.774132\n",
       "99999  0.000000  10.000000    7.752138\n",
=======
       "0      0.000000  10.000000    8.305002\n",
       "1      0.003142  10.003142    8.128887\n",
       "2      0.006283  10.006283    7.701300\n",
       "3      0.009425  10.009425    8.357231\n",
       "4      0.012566  10.012566    5.175446\n",
       "...         ...        ...         ...\n",
       "99995  6.270619   9.987434   15.516096\n",
       "99996  6.273760   9.990575   10.267850\n",
       "99997  6.276902   9.993717   10.257526\n",
       "99998  6.280044   9.996858   16.103171\n",
       "99999  0.000000  10.000000    8.383862\n",
>>>>>>> abd6b6f2af83d85fec40103d3d8d39ff1d0ae728
       "\n",
       "[100000 rows x 3 columns]"
      ]
     },
<<<<<<< HEAD
     "execution_count": 50,
=======
     "execution_count": 40,
>>>>>>> abd6b6f2af83d85fec40103d3d8d39ff1d0ae728
     "metadata": {},
     "output_type": "execute_result"
    }
   ],
   "source": [
    "time_fold = table['Time'] % (2*np.pi)\n",
    "data_fold = table\n",
    "data_fold['Time'] = time_fold\n",
    "data_fold"
   ]
  },
  {
   "cell_type": "code",
<<<<<<< HEAD
   "execution_count": 51,
=======
   "execution_count": 43,
>>>>>>> abd6b6f2af83d85fec40103d3d8d39ff1d0ae728
   "metadata": {},
   "outputs": [
    {
     "data": {
      "text/plain": [
<<<<<<< HEAD
       "<matplotlib.colorbar.Colorbar at 0x7f7c80c7f4d0>"
      ]
     },
     "execution_count": 51,
=======
       "<matplotlib.colorbar.Colorbar at 0x7f7c80806d90>"
      ]
     },
     "execution_count": 43,
>>>>>>> abd6b6f2af83d85fec40103d3d8d39ff1d0ae728
     "metadata": {},
     "output_type": "execute_result"
    },
    {
     "data": {
      "image/png": "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\n",
      "text/plain": [
       "<Figure size 720x432 with 2 Axes>"
      ]
     },
     "metadata": {
      "needs_background": "light"
     },
     "output_type": "display_data"
    }
   ],
   "source": [
    "plt.hist2d(data_fold['Time'], data_fold['Data'], bins = (100, 100))\n",
    "plt.colorbar()"
   ]
  },
  {
   "cell_type": "markdown",
   "metadata": {},
   "source": [
    "After applying the modulo operator, the data is fit into a single period. Now with very small binning, you can see the density of the function over its period."
   ]
  },
  {
   "cell_type": "code",
   "execution_count": null,
   "metadata": {},
   "outputs": [],
   "source": []
  }
 ],
 "metadata": {
  "kernelspec": {
   "display_name": "Python 3",
   "language": "python",
   "name": "python3"
  },
  "language_info": {
   "codemirror_mode": {
    "name": "ipython",
    "version": 3
   },
   "file_extension": ".py",
   "mimetype": "text/x-python",
   "name": "python",
   "nbconvert_exporter": "python",
   "pygments_lexer": "ipython3",
   "version": "3.7.4"
  }
 },
 "nbformat": 4,
 "nbformat_minor": 4
}
